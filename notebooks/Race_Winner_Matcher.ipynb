{
 "cells": [
  {
   "cell_type": "markdown",
   "metadata": {},
   "source": [
    "# Importing Packages"
   ]
  },
  {
   "cell_type": "code",
   "execution_count": 1,
   "metadata": {},
   "outputs": [],
   "source": [
    "import numpy as np\n",
    "import pandas as pd\n",
    "import re\n",
    "import requests\n",
    "from collections import Counter\n",
    "import bs4 as bs\n",
    "import unicodedata\n",
    "mdict = {\"January\":\"1\", \"February\":\"2\", \"March\":\"3\", \"April\":\"4\", \"May\":\"5\", \"June\":\"6\", \"July\":\"7\",\\\n",
    "         \"August\":\"8\", \"September\":\"9\", \"October\":\"10\", \"November\":\"11\", \"December\":\"12\"}\n",
    "import us\n",
    "STATES_DICT = us.states.mapping('name', 'abbr')"
   ]
  },
  {
   "cell_type": "code",
   "execution_count": null,
   "metadata": {},
   "outputs": [],
   "source": [
    "governor = pd.read_csv(DATA_DIR/'cleaned'/'Clean_Governor_Winners.csv')\n",
    "house = pd.read_csv(DATA_DIR/'cleaned'/'Clean_House_Winners.csv')\n",
    "senate = pd.read_csv(DATA_DIR/'cleaned'/'Clean_Senate_Winners.csv')\n",
    "nick = pd.read_pickle(DATA_DIR/'cleaned'/'tmp_for_nick.pkl')"
   ]
  }
 ],
 "metadata": {
  "kernelspec": {
   "display_name": "Python 3",
   "language": "python",
   "name": "python3"
  },
  "language_info": {
   "codemirror_mode": {
    "name": "ipython",
    "version": 3
   },
   "file_extension": ".py",
   "mimetype": "text/x-python",
   "name": "python",
   "nbconvert_exporter": "python",
   "pygments_lexer": "ipython3",
   "version": "3.6.6"
  }
 },
 "nbformat": 4,
 "nbformat_minor": 2
}
