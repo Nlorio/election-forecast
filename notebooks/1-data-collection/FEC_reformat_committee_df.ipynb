{
 "cells": [
  {
   "cell_type": "code",
   "execution_count": 17,
   "metadata": {
    "ExecuteTime": {
     "end_time": "2018-11-12T23:19:43.539220Z",
     "start_time": "2018-11-12T23:19:43.515284Z"
    }
   },
   "outputs": [],
   "source": [
    "import json\n",
    "import time\n",
    "import datetime\n",
    "import requests \n",
    "import pandas as pd\n",
    "import numpy as np\n",
    "import yaml\n",
    "from pathlib import Path\n",
    "import pickle\n",
    "\n",
    "# API Key IlbRy4iSNXBdEQhTyhQLXl68EVS3U2XttiNvLtpW\n",
    "# 1000 Calls / Hour\n",
    "# Put API Key in file. Read in API key from file instead of hardcoding in jupyter notebook. \n",
    "# http://petstore.swagger.io/\n",
    "# https://api.open.fec.gov/swagger/"
   ]
  },
  {
   "cell_type": "code",
   "execution_count": 4,
   "metadata": {
    "ExecuteTime": {
     "end_time": "2018-11-12T22:12:00.771160Z",
     "start_time": "2018-11-12T22:12:00.764589Z"
    }
   },
   "outputs": [],
   "source": [
    "# CONFIG_FILE = Path('.')/Path('0-setup')/Path('fec_config.yaml')\n",
    "# with open(CONFIG_FILE, 'r') as f:\n",
    "#     config = yaml.load(f)"
   ]
  },
  {
   "cell_type": "code",
   "execution_count": 3,
   "metadata": {
    "ExecuteTime": {
     "end_time": "2018-11-12T22:11:54.213305Z",
     "start_time": "2018-11-12T22:11:54.207997Z"
    }
   },
   "outputs": [],
   "source": [
    "api_key = 'IlbRy4iSNXBdEQhTyhQLXl68EVS3U2XttiNvLtpW'"
   ]
  },
  {
   "cell_type": "code",
   "execution_count": 39,
   "metadata": {
    "ExecuteTime": {
     "end_time": "2018-11-14T08:24:49.224676Z",
     "start_time": "2018-11-14T08:24:48.850938Z"
    }
   },
   "outputs": [
    {
     "data": {
      "text/plain": [
       "200"
      ]
     },
     "execution_count": 39,
     "metadata": {},
     "output_type": "execute_result"
    }
   ],
   "source": [
    "url = 'https://api.open.fec.gov/v1/committees/\\\n",
    "?per_page=100&sort_null_only=false&sort=name\\\n",
    "&sort_hide_null=false\\\n",
    "&page='+str(i) + '\\\n",
    "&min_first_file_date=2010\\\n",
    "&api_key=' + api_key\n",
    "\n",
    "committee_id = requests.get(url)\n",
    "committee_id.status_code"
   ]
  },
  {
   "cell_type": "code",
   "execution_count": 35,
   "metadata": {
    "ExecuteTime": {
     "end_time": "2018-11-14T08:24:09.892102Z",
     "start_time": "2018-11-14T08:23:54.856919Z"
    }
   },
   "outputs": [
    {
     "ename": "KeyboardInterrupt",
     "evalue": "",
     "output_type": "error",
     "traceback": [
      "\u001b[1;31m---------------------------------------------------------------------------\u001b[0m",
      "\u001b[1;31mKeyboardInterrupt\u001b[0m                         Traceback (most recent call last)",
      "\u001b[1;32m<ipython-input-35-fdf659547837>\u001b[0m in \u001b[0;36m<module>\u001b[1;34m()\u001b[0m\n\u001b[0;32m      6\u001b[0m     \u001b[0murl\u001b[0m \u001b[1;33m=\u001b[0m \u001b[1;34m'https://api.open.fec.gov/v1/committees/?per_page=100&sort_null_only=false&sort=name&sort_hide_null=false&page='\u001b[0m\u001b[1;33m+\u001b[0m\u001b[0mstr\u001b[0m\u001b[1;33m(\u001b[0m\u001b[0mi\u001b[0m\u001b[1;33m)\u001b[0m \u001b[1;33m+\u001b[0m \u001b[1;34m'&min_first_file_date=2010&api_key='\u001b[0m \u001b[1;33m+\u001b[0m \u001b[0mapi_key\u001b[0m\u001b[1;33m\u001b[0m\u001b[0m\n\u001b[0;32m      7\u001b[0m \u001b[1;33m\u001b[0m\u001b[0m\n\u001b[1;32m----> 8\u001b[1;33m     \u001b[0mcommittee_id\u001b[0m \u001b[1;33m=\u001b[0m \u001b[0mrequests\u001b[0m\u001b[1;33m.\u001b[0m\u001b[0mget\u001b[0m\u001b[1;33m(\u001b[0m\u001b[0murl\u001b[0m\u001b[1;33m)\u001b[0m\u001b[1;33m\u001b[0m\u001b[0m\n\u001b[0m\u001b[0;32m      9\u001b[0m     \u001b[1;32mif\u001b[0m \u001b[0mcommittee_id\u001b[0m\u001b[1;33m.\u001b[0m\u001b[0mjson\u001b[0m\u001b[1;33m(\u001b[0m\u001b[1;33m)\u001b[0m\u001b[1;33m[\u001b[0m\u001b[1;34m'results'\u001b[0m\u001b[1;33m]\u001b[0m \u001b[1;33m==\u001b[0m  \u001b[1;33m[\u001b[0m\u001b[1;33m]\u001b[0m\u001b[1;33m:\u001b[0m\u001b[1;33m\u001b[0m\u001b[0m\n\u001b[0;32m     10\u001b[0m         \u001b[1;32mbreak\u001b[0m\u001b[1;33m\u001b[0m\u001b[0m\n",
      "\u001b[1;32m~\\Anaconda3\\envs\\data-x\\lib\\site-packages\\requests\\api.py\u001b[0m in \u001b[0;36mget\u001b[1;34m(url, params, **kwargs)\u001b[0m\n\u001b[0;32m     70\u001b[0m \u001b[1;33m\u001b[0m\u001b[0m\n\u001b[0;32m     71\u001b[0m     \u001b[0mkwargs\u001b[0m\u001b[1;33m.\u001b[0m\u001b[0msetdefault\u001b[0m\u001b[1;33m(\u001b[0m\u001b[1;34m'allow_redirects'\u001b[0m\u001b[1;33m,\u001b[0m \u001b[1;32mTrue\u001b[0m\u001b[1;33m)\u001b[0m\u001b[1;33m\u001b[0m\u001b[0m\n\u001b[1;32m---> 72\u001b[1;33m     \u001b[1;32mreturn\u001b[0m \u001b[0mrequest\u001b[0m\u001b[1;33m(\u001b[0m\u001b[1;34m'get'\u001b[0m\u001b[1;33m,\u001b[0m \u001b[0murl\u001b[0m\u001b[1;33m,\u001b[0m \u001b[0mparams\u001b[0m\u001b[1;33m=\u001b[0m\u001b[0mparams\u001b[0m\u001b[1;33m,\u001b[0m \u001b[1;33m**\u001b[0m\u001b[0mkwargs\u001b[0m\u001b[1;33m)\u001b[0m\u001b[1;33m\u001b[0m\u001b[0m\n\u001b[0m\u001b[0;32m     73\u001b[0m \u001b[1;33m\u001b[0m\u001b[0m\n\u001b[0;32m     74\u001b[0m \u001b[1;33m\u001b[0m\u001b[0m\n",
      "\u001b[1;32m~\\Anaconda3\\envs\\data-x\\lib\\site-packages\\requests\\api.py\u001b[0m in \u001b[0;36mrequest\u001b[1;34m(method, url, **kwargs)\u001b[0m\n\u001b[0;32m     56\u001b[0m     \u001b[1;31m# cases, and look like a memory leak in others.\u001b[0m\u001b[1;33m\u001b[0m\u001b[1;33m\u001b[0m\u001b[0m\n\u001b[0;32m     57\u001b[0m     \u001b[1;32mwith\u001b[0m \u001b[0msessions\u001b[0m\u001b[1;33m.\u001b[0m\u001b[0mSession\u001b[0m\u001b[1;33m(\u001b[0m\u001b[1;33m)\u001b[0m \u001b[1;32mas\u001b[0m \u001b[0msession\u001b[0m\u001b[1;33m:\u001b[0m\u001b[1;33m\u001b[0m\u001b[0m\n\u001b[1;32m---> 58\u001b[1;33m         \u001b[1;32mreturn\u001b[0m \u001b[0msession\u001b[0m\u001b[1;33m.\u001b[0m\u001b[0mrequest\u001b[0m\u001b[1;33m(\u001b[0m\u001b[0mmethod\u001b[0m\u001b[1;33m=\u001b[0m\u001b[0mmethod\u001b[0m\u001b[1;33m,\u001b[0m \u001b[0murl\u001b[0m\u001b[1;33m=\u001b[0m\u001b[0murl\u001b[0m\u001b[1;33m,\u001b[0m \u001b[1;33m**\u001b[0m\u001b[0mkwargs\u001b[0m\u001b[1;33m)\u001b[0m\u001b[1;33m\u001b[0m\u001b[0m\n\u001b[0m\u001b[0;32m     59\u001b[0m \u001b[1;33m\u001b[0m\u001b[0m\n\u001b[0;32m     60\u001b[0m \u001b[1;33m\u001b[0m\u001b[0m\n",
      "\u001b[1;32m~\\Anaconda3\\envs\\data-x\\lib\\site-packages\\requests\\sessions.py\u001b[0m in \u001b[0;36mrequest\u001b[1;34m(self, method, url, params, data, headers, cookies, files, auth, timeout, allow_redirects, proxies, hooks, stream, verify, cert, json)\u001b[0m\n\u001b[0;32m    506\u001b[0m         }\n\u001b[0;32m    507\u001b[0m         \u001b[0msend_kwargs\u001b[0m\u001b[1;33m.\u001b[0m\u001b[0mupdate\u001b[0m\u001b[1;33m(\u001b[0m\u001b[0msettings\u001b[0m\u001b[1;33m)\u001b[0m\u001b[1;33m\u001b[0m\u001b[0m\n\u001b[1;32m--> 508\u001b[1;33m         \u001b[0mresp\u001b[0m \u001b[1;33m=\u001b[0m \u001b[0mself\u001b[0m\u001b[1;33m.\u001b[0m\u001b[0msend\u001b[0m\u001b[1;33m(\u001b[0m\u001b[0mprep\u001b[0m\u001b[1;33m,\u001b[0m \u001b[1;33m**\u001b[0m\u001b[0msend_kwargs\u001b[0m\u001b[1;33m)\u001b[0m\u001b[1;33m\u001b[0m\u001b[0m\n\u001b[0m\u001b[0;32m    509\u001b[0m \u001b[1;33m\u001b[0m\u001b[0m\n\u001b[0;32m    510\u001b[0m         \u001b[1;32mreturn\u001b[0m \u001b[0mresp\u001b[0m\u001b[1;33m\u001b[0m\u001b[0m\n",
      "\u001b[1;32m~\\Anaconda3\\envs\\data-x\\lib\\site-packages\\requests\\sessions.py\u001b[0m in \u001b[0;36msend\u001b[1;34m(self, request, **kwargs)\u001b[0m\n\u001b[0;32m    616\u001b[0m \u001b[1;33m\u001b[0m\u001b[0m\n\u001b[0;32m    617\u001b[0m         \u001b[1;31m# Send the request\u001b[0m\u001b[1;33m\u001b[0m\u001b[1;33m\u001b[0m\u001b[0m\n\u001b[1;32m--> 618\u001b[1;33m         \u001b[0mr\u001b[0m \u001b[1;33m=\u001b[0m \u001b[0madapter\u001b[0m\u001b[1;33m.\u001b[0m\u001b[0msend\u001b[0m\u001b[1;33m(\u001b[0m\u001b[0mrequest\u001b[0m\u001b[1;33m,\u001b[0m \u001b[1;33m**\u001b[0m\u001b[0mkwargs\u001b[0m\u001b[1;33m)\u001b[0m\u001b[1;33m\u001b[0m\u001b[0m\n\u001b[0m\u001b[0;32m    619\u001b[0m \u001b[1;33m\u001b[0m\u001b[0m\n\u001b[0;32m    620\u001b[0m         \u001b[1;31m# Total elapsed time of the request (approximately)\u001b[0m\u001b[1;33m\u001b[0m\u001b[1;33m\u001b[0m\u001b[0m\n",
      "\u001b[1;32m~\\Anaconda3\\envs\\data-x\\lib\\site-packages\\requests\\adapters.py\u001b[0m in \u001b[0;36msend\u001b[1;34m(self, request, stream, timeout, verify, cert, proxies)\u001b[0m\n\u001b[0;32m    438\u001b[0m                     \u001b[0mdecode_content\u001b[0m\u001b[1;33m=\u001b[0m\u001b[1;32mFalse\u001b[0m\u001b[1;33m,\u001b[0m\u001b[1;33m\u001b[0m\u001b[0m\n\u001b[0;32m    439\u001b[0m                     \u001b[0mretries\u001b[0m\u001b[1;33m=\u001b[0m\u001b[0mself\u001b[0m\u001b[1;33m.\u001b[0m\u001b[0mmax_retries\u001b[0m\u001b[1;33m,\u001b[0m\u001b[1;33m\u001b[0m\u001b[0m\n\u001b[1;32m--> 440\u001b[1;33m                     \u001b[0mtimeout\u001b[0m\u001b[1;33m=\u001b[0m\u001b[0mtimeout\u001b[0m\u001b[1;33m\u001b[0m\u001b[0m\n\u001b[0m\u001b[0;32m    441\u001b[0m                 )\n\u001b[0;32m    442\u001b[0m \u001b[1;33m\u001b[0m\u001b[0m\n",
      "\u001b[1;32m~\\Anaconda3\\envs\\data-x\\lib\\site-packages\\urllib3\\connectionpool.py\u001b[0m in \u001b[0;36murlopen\u001b[1;34m(self, method, url, body, headers, retries, redirect, assert_same_host, timeout, pool_timeout, release_conn, chunked, body_pos, **response_kw)\u001b[0m\n\u001b[0;32m    599\u001b[0m                                                   \u001b[0mtimeout\u001b[0m\u001b[1;33m=\u001b[0m\u001b[0mtimeout_obj\u001b[0m\u001b[1;33m,\u001b[0m\u001b[1;33m\u001b[0m\u001b[0m\n\u001b[0;32m    600\u001b[0m                                                   \u001b[0mbody\u001b[0m\u001b[1;33m=\u001b[0m\u001b[0mbody\u001b[0m\u001b[1;33m,\u001b[0m \u001b[0mheaders\u001b[0m\u001b[1;33m=\u001b[0m\u001b[0mheaders\u001b[0m\u001b[1;33m,\u001b[0m\u001b[1;33m\u001b[0m\u001b[0m\n\u001b[1;32m--> 601\u001b[1;33m                                                   chunked=chunked)\n\u001b[0m\u001b[0;32m    602\u001b[0m \u001b[1;33m\u001b[0m\u001b[0m\n\u001b[0;32m    603\u001b[0m             \u001b[1;31m# If we're going to release the connection in ``finally:``, then\u001b[0m\u001b[1;33m\u001b[0m\u001b[1;33m\u001b[0m\u001b[0m\n",
      "\u001b[1;32m~\\Anaconda3\\envs\\data-x\\lib\\site-packages\\urllib3\\connectionpool.py\u001b[0m in \u001b[0;36m_make_request\u001b[1;34m(self, conn, method, url, timeout, chunked, **httplib_request_kw)\u001b[0m\n\u001b[0;32m    344\u001b[0m         \u001b[1;31m# Trigger any extra validation we need to do.\u001b[0m\u001b[1;33m\u001b[0m\u001b[1;33m\u001b[0m\u001b[0m\n\u001b[0;32m    345\u001b[0m         \u001b[1;32mtry\u001b[0m\u001b[1;33m:\u001b[0m\u001b[1;33m\u001b[0m\u001b[0m\n\u001b[1;32m--> 346\u001b[1;33m             \u001b[0mself\u001b[0m\u001b[1;33m.\u001b[0m\u001b[0m_validate_conn\u001b[0m\u001b[1;33m(\u001b[0m\u001b[0mconn\u001b[0m\u001b[1;33m)\u001b[0m\u001b[1;33m\u001b[0m\u001b[0m\n\u001b[0m\u001b[0;32m    347\u001b[0m         \u001b[1;32mexcept\u001b[0m \u001b[1;33m(\u001b[0m\u001b[0mSocketTimeout\u001b[0m\u001b[1;33m,\u001b[0m \u001b[0mBaseSSLError\u001b[0m\u001b[1;33m)\u001b[0m \u001b[1;32mas\u001b[0m \u001b[0me\u001b[0m\u001b[1;33m:\u001b[0m\u001b[1;33m\u001b[0m\u001b[0m\n\u001b[0;32m    348\u001b[0m             \u001b[1;31m# Py2 raises this as a BaseSSLError, Py3 raises it as socket timeout.\u001b[0m\u001b[1;33m\u001b[0m\u001b[1;33m\u001b[0m\u001b[0m\n",
      "\u001b[1;32m~\\Anaconda3\\envs\\data-x\\lib\\site-packages\\urllib3\\connectionpool.py\u001b[0m in \u001b[0;36m_validate_conn\u001b[1;34m(self, conn)\u001b[0m\n\u001b[0;32m    848\u001b[0m         \u001b[1;31m# Force connect early to allow us to validate the connection.\u001b[0m\u001b[1;33m\u001b[0m\u001b[1;33m\u001b[0m\u001b[0m\n\u001b[0;32m    849\u001b[0m         \u001b[1;32mif\u001b[0m \u001b[1;32mnot\u001b[0m \u001b[0mgetattr\u001b[0m\u001b[1;33m(\u001b[0m\u001b[0mconn\u001b[0m\u001b[1;33m,\u001b[0m \u001b[1;34m'sock'\u001b[0m\u001b[1;33m,\u001b[0m \u001b[1;32mNone\u001b[0m\u001b[1;33m)\u001b[0m\u001b[1;33m:\u001b[0m  \u001b[1;31m# AppEngine might not have  `.sock`\u001b[0m\u001b[1;33m\u001b[0m\u001b[0m\n\u001b[1;32m--> 850\u001b[1;33m             \u001b[0mconn\u001b[0m\u001b[1;33m.\u001b[0m\u001b[0mconnect\u001b[0m\u001b[1;33m(\u001b[0m\u001b[1;33m)\u001b[0m\u001b[1;33m\u001b[0m\u001b[0m\n\u001b[0m\u001b[0;32m    851\u001b[0m \u001b[1;33m\u001b[0m\u001b[0m\n\u001b[0;32m    852\u001b[0m         \u001b[1;32mif\u001b[0m \u001b[1;32mnot\u001b[0m \u001b[0mconn\u001b[0m\u001b[1;33m.\u001b[0m\u001b[0mis_verified\u001b[0m\u001b[1;33m:\u001b[0m\u001b[1;33m\u001b[0m\u001b[0m\n",
      "\u001b[1;32m~\\Anaconda3\\envs\\data-x\\lib\\site-packages\\urllib3\\connection.py\u001b[0m in \u001b[0;36mconnect\u001b[1;34m(self)\u001b[0m\n\u001b[0;32m    282\u001b[0m     \u001b[1;32mdef\u001b[0m \u001b[0mconnect\u001b[0m\u001b[1;33m(\u001b[0m\u001b[0mself\u001b[0m\u001b[1;33m)\u001b[0m\u001b[1;33m:\u001b[0m\u001b[1;33m\u001b[0m\u001b[0m\n\u001b[0;32m    283\u001b[0m         \u001b[1;31m# Add certificate verification\u001b[0m\u001b[1;33m\u001b[0m\u001b[1;33m\u001b[0m\u001b[0m\n\u001b[1;32m--> 284\u001b[1;33m         \u001b[0mconn\u001b[0m \u001b[1;33m=\u001b[0m \u001b[0mself\u001b[0m\u001b[1;33m.\u001b[0m\u001b[0m_new_conn\u001b[0m\u001b[1;33m(\u001b[0m\u001b[1;33m)\u001b[0m\u001b[1;33m\u001b[0m\u001b[0m\n\u001b[0m\u001b[0;32m    285\u001b[0m \u001b[1;33m\u001b[0m\u001b[0m\n\u001b[0;32m    286\u001b[0m         \u001b[0mhostname\u001b[0m \u001b[1;33m=\u001b[0m \u001b[0mself\u001b[0m\u001b[1;33m.\u001b[0m\u001b[0mhost\u001b[0m\u001b[1;33m\u001b[0m\u001b[0m\n",
      "\u001b[1;32m~\\Anaconda3\\envs\\data-x\\lib\\site-packages\\urllib3\\connection.py\u001b[0m in \u001b[0;36m_new_conn\u001b[1;34m(self)\u001b[0m\n\u001b[0;32m    139\u001b[0m         \u001b[1;32mtry\u001b[0m\u001b[1;33m:\u001b[0m\u001b[1;33m\u001b[0m\u001b[0m\n\u001b[0;32m    140\u001b[0m             conn = connection.create_connection(\n\u001b[1;32m--> 141\u001b[1;33m                 (self.host, self.port), self.timeout, **extra_kw)\n\u001b[0m\u001b[0;32m    142\u001b[0m \u001b[1;33m\u001b[0m\u001b[0m\n\u001b[0;32m    143\u001b[0m         \u001b[1;32mexcept\u001b[0m \u001b[0mSocketTimeout\u001b[0m \u001b[1;32mas\u001b[0m \u001b[0me\u001b[0m\u001b[1;33m:\u001b[0m\u001b[1;33m\u001b[0m\u001b[0m\n",
      "\u001b[1;32m~\\Anaconda3\\envs\\data-x\\lib\\site-packages\\urllib3\\util\\connection.py\u001b[0m in \u001b[0;36mcreate_connection\u001b[1;34m(address, timeout, source_address, socket_options)\u001b[0m\n\u001b[0;32m     71\u001b[0m             \u001b[1;32mif\u001b[0m \u001b[0msource_address\u001b[0m\u001b[1;33m:\u001b[0m\u001b[1;33m\u001b[0m\u001b[0m\n\u001b[0;32m     72\u001b[0m                 \u001b[0msock\u001b[0m\u001b[1;33m.\u001b[0m\u001b[0mbind\u001b[0m\u001b[1;33m(\u001b[0m\u001b[0msource_address\u001b[0m\u001b[1;33m)\u001b[0m\u001b[1;33m\u001b[0m\u001b[0m\n\u001b[1;32m---> 73\u001b[1;33m             \u001b[0msock\u001b[0m\u001b[1;33m.\u001b[0m\u001b[0mconnect\u001b[0m\u001b[1;33m(\u001b[0m\u001b[0msa\u001b[0m\u001b[1;33m)\u001b[0m\u001b[1;33m\u001b[0m\u001b[0m\n\u001b[0m\u001b[0;32m     74\u001b[0m             \u001b[1;32mreturn\u001b[0m \u001b[0msock\u001b[0m\u001b[1;33m\u001b[0m\u001b[0m\n\u001b[0;32m     75\u001b[0m \u001b[1;33m\u001b[0m\u001b[0m\n",
      "\u001b[1;31mKeyboardInterrupt\u001b[0m: "
     ]
    }
   ],
   "source": [
    "#Retrieve Comprehensive Committee Dictionary\n",
    "\n",
    "i = 1\n",
    "committee_dict = []\n",
    "while True:\n",
    "    url = 'https://api.open.fec.gov/v1/committees/\\\n",
    "?per_page=100&sort_null_only=false&sort=name\\\n",
    "&sort_hide_null=false\\\n",
    "&page='+str(i) + '\\\n",
    "&min_first_file_date=2010\\\n",
    "&api_key=' + api_key\n",
    "\n",
    "    committee_id = requests.get(url)\n",
    "    if committee_id.json()['results'] ==  []:\n",
    "        break\n",
    "    else: \n",
    "        results = committee_id.json()['results']\n",
    "        committee_dict = committee_dict +  results\n",
    "        i += 1\n",
    "print('Done')\n",
    "print(i)\n",
    "\n",
    "df_general_comm = pd.DataFrame(committee_dict)\n",
    "df_general_comm.head()\n",
    "\n",
    "df_committee_id = df_general_comm.drop(columns=['organization_type', 'organization_type_full', 'party', 'party_full', 'treasurer_name'])\n",
    "empty = []\n",
    "df_committee_id = df_committee_id.loc[df_committee_id.candidate_ids.map(len) > 0].reset_index()\n",
    "df_committee_id.head()\n",
    "\n",
    "# Add column for metric to weight the effect of contribution \n",
    "# on each candidate represented by committee\n",
    "\n",
    "# Simple approach, to be updated at a later point\n",
    "\n",
    "number_candidates = np.array([len(x) for x in df_committee_id.candidate_ids])**float(-1)\n",
    "df_committee_id['candidate_donor_weight'] = number_candidates\n",
    "\n",
    "df_committee_id.head()"
   ]
  },
  {
   "cell_type": "code",
   "execution_count": 12,
   "metadata": {
    "ExecuteTime": {
     "end_time": "2018-11-12T22:20:46.031266Z",
     "start_time": "2018-11-12T22:20:46.014647Z"
    }
   },
   "outputs": [],
   "source": [
    "df_general_comm.name\n",
    "df_committee_id = df_general_comm.drop(columns=['organization_type', 'organization_type_full', 'party', 'party_full', 'treasurer_name'])\n"
   ]
  },
  {
   "cell_type": "code",
   "execution_count": 18,
   "metadata": {
    "ExecuteTime": {
     "end_time": "2018-11-12T23:21:25.224330Z",
     "start_time": "2018-11-12T23:21:25.032844Z"
    }
   },
   "outputs": [
    {
     "name": "stderr",
     "output_type": "stream",
     "text": [
      "C:\\Users\\nicho\\Anaconda3\\envs\\data-x\\lib\\site-packages\\ipykernel_launcher.py:3: RuntimeWarning: divide by zero encountered in power\n",
      "  This is separate from the ipykernel package so we can avoid doing imports until\n"
     ]
    }
   ],
   "source": [
    "# df_committee_id = pd.read_pickle('committee_ids.pkl')\n",
    "df_committee_id.head()\n",
    "number_candidates = np.array([len(x) for x in df_committee_id.candidate_ids])**float(-1)\n",
    "df_committee_id['candidate_donor_weight'] = number_candidates\n",
    "\n",
    "df_committee_id.to_pickle('committee_ids.pkl')\n"
   ]
  },
  {
   "cell_type": "code",
   "execution_count": 19,
   "metadata": {
    "ExecuteTime": {
     "end_time": "2018-11-12T23:21:31.992955Z",
     "start_time": "2018-11-12T23:21:31.953102Z"
    }
   },
   "outputs": [
    {
     "data": {
      "text/html": [
       "<div>\n",
       "<style scoped>\n",
       "    .dataframe tbody tr th:only-of-type {\n",
       "        vertical-align: middle;\n",
       "    }\n",
       "\n",
       "    .dataframe tbody tr th {\n",
       "        vertical-align: top;\n",
       "    }\n",
       "\n",
       "    .dataframe thead th {\n",
       "        text-align: right;\n",
       "    }\n",
       "</style>\n",
       "<table border=\"1\" class=\"dataframe\">\n",
       "  <thead>\n",
       "    <tr style=\"text-align: right;\">\n",
       "      <th></th>\n",
       "      <th>candidate_ids</th>\n",
       "      <th>committee_id</th>\n",
       "      <th>committee_type</th>\n",
       "      <th>committee_type_full</th>\n",
       "      <th>cycles</th>\n",
       "      <th>designation</th>\n",
       "      <th>designation_full</th>\n",
       "      <th>filing_frequency</th>\n",
       "      <th>first_file_date</th>\n",
       "      <th>last_f1_date</th>\n",
       "      <th>last_file_date</th>\n",
       "      <th>name</th>\n",
       "      <th>state</th>\n",
       "      <th>candidate_donor_weight</th>\n",
       "    </tr>\n",
       "  </thead>\n",
       "  <tbody>\n",
       "    <tr>\n",
       "      <th>0</th>\n",
       "      <td>[P00008052]</td>\n",
       "      <td>C00684373</td>\n",
       "      <td>P</td>\n",
       "      <td>Presidential</td>\n",
       "      <td>[2018]</td>\n",
       "      <td>P</td>\n",
       "      <td>Principal campaign committee</td>\n",
       "      <td>Q</td>\n",
       "      <td>2018-08-03</td>\n",
       "      <td>2018-08-03</td>\n",
       "      <td>2018-09-09</td>\n",
       "      <td>:</td>\n",
       "      <td>MA</td>\n",
       "      <td>1.000000</td>\n",
       "    </tr>\n",
       "    <tr>\n",
       "      <th>1</th>\n",
       "      <td>[S8MN00438]</td>\n",
       "      <td>C00555748</td>\n",
       "      <td>N</td>\n",
       "      <td>PAC - Nonqualified</td>\n",
       "      <td>[2014]</td>\n",
       "      <td>J</td>\n",
       "      <td>Joint fundraising committee</td>\n",
       "      <td>T</td>\n",
       "      <td>2014-01-28</td>\n",
       "      <td>2014-01-28</td>\n",
       "      <td>2014-12-18</td>\n",
       "      <td>10,000 LAKES VICTORY 2014</td>\n",
       "      <td>DC</td>\n",
       "      <td>1.000000</td>\n",
       "    </tr>\n",
       "    <tr>\n",
       "      <th>2</th>\n",
       "      <td>[]</td>\n",
       "      <td>C00563023</td>\n",
       "      <td>O</td>\n",
       "      <td>Super PAC (Independent Expenditure-Only)</td>\n",
       "      <td>[2014]</td>\n",
       "      <td>U</td>\n",
       "      <td>Unauthorized</td>\n",
       "      <td>T</td>\n",
       "      <td>2014-05-12</td>\n",
       "      <td>2014-05-16</td>\n",
       "      <td>2014-06-16</td>\n",
       "      <td>10 ^ 9+</td>\n",
       "      <td>CA</td>\n",
       "      <td>inf</td>\n",
       "    </tr>\n",
       "    <tr>\n",
       "      <th>3</th>\n",
       "      <td>[]</td>\n",
       "      <td>C00687368</td>\n",
       "      <td>O</td>\n",
       "      <td>Super PAC (Independent Expenditure-Only)</td>\n",
       "      <td>[2018]</td>\n",
       "      <td>U</td>\n",
       "      <td>Unauthorized</td>\n",
       "      <td>Q</td>\n",
       "      <td>2018-09-12</td>\n",
       "      <td>2018-09-12</td>\n",
       "      <td>2018-11-02</td>\n",
       "      <td>11/06/18 VICTORY FUND</td>\n",
       "      <td>MS</td>\n",
       "      <td>inf</td>\n",
       "    </tr>\n",
       "    <tr>\n",
       "      <th>4</th>\n",
       "      <td>[]</td>\n",
       "      <td>C00686774</td>\n",
       "      <td>H</td>\n",
       "      <td>House</td>\n",
       "      <td>[2018]</td>\n",
       "      <td>J</td>\n",
       "      <td>Joint fundraising committee</td>\n",
       "      <td>Q</td>\n",
       "      <td>2018-09-05</td>\n",
       "      <td>2018-09-05</td>\n",
       "      <td>2018-10-21</td>\n",
       "      <td>1106 FUND</td>\n",
       "      <td>DC</td>\n",
       "      <td>inf</td>\n",
       "    </tr>\n",
       "  </tbody>\n",
       "</table>\n",
       "</div>"
      ],
      "text/plain": [
       "  candidate_ids committee_id committee_type  \\\n",
       "0   [P00008052]    C00684373              P   \n",
       "1   [S8MN00438]    C00555748              N   \n",
       "2            []    C00563023              O   \n",
       "3            []    C00687368              O   \n",
       "4            []    C00686774              H   \n",
       "\n",
       "                        committee_type_full  cycles designation  \\\n",
       "0                              Presidential  [2018]           P   \n",
       "1                        PAC - Nonqualified  [2014]           J   \n",
       "2  Super PAC (Independent Expenditure-Only)  [2014]           U   \n",
       "3  Super PAC (Independent Expenditure-Only)  [2018]           U   \n",
       "4                                     House  [2018]           J   \n",
       "\n",
       "               designation_full filing_frequency first_file_date last_f1_date  \\\n",
       "0  Principal campaign committee                Q      2018-08-03   2018-08-03   \n",
       "1   Joint fundraising committee                T      2014-01-28   2014-01-28   \n",
       "2                  Unauthorized                T      2014-05-12   2014-05-16   \n",
       "3                  Unauthorized                Q      2018-09-12   2018-09-12   \n",
       "4   Joint fundraising committee                Q      2018-09-05   2018-09-05   \n",
       "\n",
       "  last_file_date                       name state  candidate_donor_weight  \n",
       "0     2018-09-09                          :    MA                1.000000  \n",
       "1     2014-12-18  10,000 LAKES VICTORY 2014    DC                1.000000  \n",
       "2     2014-06-16                    10 ^ 9+    CA                     inf  \n",
       "3     2018-11-02      11/06/18 VICTORY FUND    MS                     inf  \n",
       "4     2018-10-21                  1106 FUND    DC                     inf  "
      ]
     },
     "execution_count": 19,
     "metadata": {},
     "output_type": "execute_result"
    }
   ],
   "source": [
    "df_committee_id.head()"
   ]
  },
  {
   "cell_type": "code",
   "execution_count": 29,
   "metadata": {
    "ExecuteTime": {
     "end_time": "2018-11-12T23:45:56.615733Z",
     "start_time": "2018-11-12T23:45:56.592820Z"
    }
   },
   "outputs": [
    {
     "name": "stdout",
     "output_type": "stream",
     "text": [
      "Length of new datframe 10427:\n"
     ]
    }
   ],
   "source": [
    "# Run this, build committee donor extraction algorithm that adds to the other function. \n",
    "# Run for all candidates. Try and find the election results first tho.\n",
    "\n",
    "\n",
    "# def reformat_committee_df(df):\n",
    "#     df_temp = df.copy()\n",
    "#     df_comm = pd.DataFrame(columns = df_temp.columns)\n",
    "#     i = 1\n",
    "#     for list_cand_id in df_temp.candidate_ids:\n",
    "#         print(i)\n",
    "#         for cand_id in list_cand_id:\n",
    "#             df_temp.iloc[i-1:i,:] = df_temp.iloc[i-1:i,:].drop(columns='candidate_ids')\n",
    "#             df_temp.iloc[i-1:i,:]['candidate_ids'] = cand_id\n",
    "#             df_comm = pd.concat([df_comm, df_temp.iloc[i-1:i,:]])\n",
    "#         i+=1\n",
    "#     return df_comm\n",
    "\n",
    "\n",
    "len_reform_df = sum(df_committee_id['candidate_ids'].apply(lambda row: len(row)))\n",
    "print('Length of new datframe {}:'.format(len_reform_df))\n",
    "\n",
    "def reformat_by_comm_cand(df):\n",
    "    df_temp = df.copy()\n",
    "    \n",
    "    # Create the DataFrame with 54446 rows and columns -- all NaNs\n",
    "    cols = df_temp.columns\n",
    "    df_comm = pd.DataFrame(np.full((len_reform_df, len(cols)), np.nan), columns=cols)\n",
    "    df_comm['candidate_ids'] = df_comm['cycles'].astype(list)\n",
    "    df_comm['cycles'] = df_comm['cycles'].astype(list)\n",
    "    \n",
    "    i = 0\n",
    "    j= 0\n",
    "\n",
    "    for list_candidates in df_temp.candidate_ids:\n",
    "        for cand_id in list_candidates:\n",
    "            df_comm.iloc[j,:] = df_temp.iloc[i,:] \n",
    "            df_comm.iloc[j, 0] = cand_id\n",
    "            j+=1\n",
    "\n",
    "    \n",
    "        i+=1\n",
    "    return df_comm"
   ]
  },
  {
   "cell_type": "code",
   "execution_count": 32,
   "metadata": {
    "ExecuteTime": {
     "end_time": "2018-11-13T05:01:09.624959Z",
     "start_time": "2018-11-13T04:59:46.514861Z"
    }
   },
   "outputs": [],
   "source": [
    "df_comm = reformat_by_comm_cand(df_committee_id)\n",
    "# df_comm = reformat_committee_df(df_committee_id)"
   ]
  },
  {
   "cell_type": "code",
   "execution_count": 33,
   "metadata": {
    "ExecuteTime": {
     "end_time": "2018-11-13T05:01:09.670856Z",
     "start_time": "2018-11-13T05:01:09.626752Z"
    }
   },
   "outputs": [],
   "source": [
    "df_comm.to_pickle('committee_id_formatted_v1.pkl')"
   ]
  },
  {
   "cell_type": "code",
   "execution_count": 34,
   "metadata": {
    "ExecuteTime": {
     "end_time": "2018-11-13T05:12:09.673287Z",
     "start_time": "2018-11-13T05:12:09.641374Z"
    }
   },
   "outputs": [
    {
     "data": {
      "text/html": [
       "<div>\n",
       "<style scoped>\n",
       "    .dataframe tbody tr th:only-of-type {\n",
       "        vertical-align: middle;\n",
       "    }\n",
       "\n",
       "    .dataframe tbody tr th {\n",
       "        vertical-align: top;\n",
       "    }\n",
       "\n",
       "    .dataframe thead th {\n",
       "        text-align: right;\n",
       "    }\n",
       "</style>\n",
       "<table border=\"1\" class=\"dataframe\">\n",
       "  <thead>\n",
       "    <tr style=\"text-align: right;\">\n",
       "      <th></th>\n",
       "      <th>candidate_ids</th>\n",
       "      <th>committee_id</th>\n",
       "      <th>committee_type</th>\n",
       "      <th>committee_type_full</th>\n",
       "      <th>cycles</th>\n",
       "      <th>designation</th>\n",
       "      <th>designation_full</th>\n",
       "      <th>filing_frequency</th>\n",
       "      <th>first_file_date</th>\n",
       "      <th>last_f1_date</th>\n",
       "      <th>last_file_date</th>\n",
       "      <th>name</th>\n",
       "      <th>state</th>\n",
       "      <th>candidate_donor_weight</th>\n",
       "    </tr>\n",
       "  </thead>\n",
       "  <tbody>\n",
       "    <tr>\n",
       "      <th>0</th>\n",
       "      <td>P00008052</td>\n",
       "      <td>C00684373</td>\n",
       "      <td>P</td>\n",
       "      <td>Presidential</td>\n",
       "      <td>[2018]</td>\n",
       "      <td>P</td>\n",
       "      <td>Principal campaign committee</td>\n",
       "      <td>Q</td>\n",
       "      <td>2018-08-03</td>\n",
       "      <td>2018-08-03</td>\n",
       "      <td>2018-09-09</td>\n",
       "      <td>:</td>\n",
       "      <td>MA</td>\n",
       "      <td>1.000</td>\n",
       "    </tr>\n",
       "    <tr>\n",
       "      <th>1</th>\n",
       "      <td>S8MN00438</td>\n",
       "      <td>C00555748</td>\n",
       "      <td>N</td>\n",
       "      <td>PAC - Nonqualified</td>\n",
       "      <td>[2014]</td>\n",
       "      <td>J</td>\n",
       "      <td>Joint fundraising committee</td>\n",
       "      <td>T</td>\n",
       "      <td>2014-01-28</td>\n",
       "      <td>2014-01-28</td>\n",
       "      <td>2014-12-18</td>\n",
       "      <td>10,000 LAKES VICTORY 2014</td>\n",
       "      <td>DC</td>\n",
       "      <td>1.000</td>\n",
       "    </tr>\n",
       "    <tr>\n",
       "      <th>2</th>\n",
       "      <td>S0MA00109</td>\n",
       "      <td>C00495390</td>\n",
       "      <td>S</td>\n",
       "      <td>Senate</td>\n",
       "      <td>[2012]</td>\n",
       "      <td>J</td>\n",
       "      <td>Joint fundraising committee</td>\n",
       "      <td>T</td>\n",
       "      <td>2011-04-15</td>\n",
       "      <td>2011-05-10</td>\n",
       "      <td>2011-10-31</td>\n",
       "      <td>2011 SENATORS CLASSIC COMMITTEE</td>\n",
       "      <td>VA</td>\n",
       "      <td>0.125</td>\n",
       "    </tr>\n",
       "    <tr>\n",
       "      <th>3</th>\n",
       "      <td>S2NV00183</td>\n",
       "      <td>C00495390</td>\n",
       "      <td>S</td>\n",
       "      <td>Senate</td>\n",
       "      <td>[2012]</td>\n",
       "      <td>J</td>\n",
       "      <td>Joint fundraising committee</td>\n",
       "      <td>T</td>\n",
       "      <td>2011-04-15</td>\n",
       "      <td>2011-05-10</td>\n",
       "      <td>2011-10-31</td>\n",
       "      <td>2011 SENATORS CLASSIC COMMITTEE</td>\n",
       "      <td>VA</td>\n",
       "      <td>0.125</td>\n",
       "    </tr>\n",
       "    <tr>\n",
       "      <th>4</th>\n",
       "      <td>S4IN00014</td>\n",
       "      <td>C00495390</td>\n",
       "      <td>S</td>\n",
       "      <td>Senate</td>\n",
       "      <td>[2012]</td>\n",
       "      <td>J</td>\n",
       "      <td>Joint fundraising committee</td>\n",
       "      <td>T</td>\n",
       "      <td>2011-04-15</td>\n",
       "      <td>2011-05-10</td>\n",
       "      <td>2011-10-31</td>\n",
       "      <td>2011 SENATORS CLASSIC COMMITTEE</td>\n",
       "      <td>VA</td>\n",
       "      <td>0.125</td>\n",
       "    </tr>\n",
       "  </tbody>\n",
       "</table>\n",
       "</div>"
      ],
      "text/plain": [
       "  candidate_ids committee_id committee_type committee_type_full  cycles  \\\n",
       "0     P00008052    C00684373              P        Presidential  [2018]   \n",
       "1     S8MN00438    C00555748              N  PAC - Nonqualified  [2014]   \n",
       "2     S0MA00109    C00495390              S              Senate  [2012]   \n",
       "3     S2NV00183    C00495390              S              Senate  [2012]   \n",
       "4     S4IN00014    C00495390              S              Senate  [2012]   \n",
       "\n",
       "  designation              designation_full filing_frequency first_file_date  \\\n",
       "0           P  Principal campaign committee                Q      2018-08-03   \n",
       "1           J   Joint fundraising committee                T      2014-01-28   \n",
       "2           J   Joint fundraising committee                T      2011-04-15   \n",
       "3           J   Joint fundraising committee                T      2011-04-15   \n",
       "4           J   Joint fundraising committee                T      2011-04-15   \n",
       "\n",
       "  last_f1_date last_file_date                             name state  \\\n",
       "0   2018-08-03     2018-09-09                                :    MA   \n",
       "1   2014-01-28     2014-12-18        10,000 LAKES VICTORY 2014    DC   \n",
       "2   2011-05-10     2011-10-31  2011 SENATORS CLASSIC COMMITTEE    VA   \n",
       "3   2011-05-10     2011-10-31  2011 SENATORS CLASSIC COMMITTEE    VA   \n",
       "4   2011-05-10     2011-10-31  2011 SENATORS CLASSIC COMMITTEE    VA   \n",
       "\n",
       "   candidate_donor_weight  \n",
       "0                   1.000  \n",
       "1                   1.000  \n",
       "2                   0.125  \n",
       "3                   0.125  \n",
       "4                   0.125  "
      ]
     },
     "execution_count": 34,
     "metadata": {},
     "output_type": "execute_result"
    }
   ],
   "source": [
    "df_comm.head()"
   ]
  },
  {
   "cell_type": "code",
   "execution_count": null,
   "metadata": {
    "ExecuteTime": {
     "end_time": "2018-11-12T23:45:28.704294Z",
     "start_time": "2018-11-12T23:45:28.628015Z"
    }
   },
   "outputs": [],
   "source": []
  },
  {
   "cell_type": "code",
   "execution_count": null,
   "metadata": {},
   "outputs": [],
   "source": []
  },
  {
   "cell_type": "code",
   "execution_count": null,
   "metadata": {},
   "outputs": [],
   "source": []
  }
 ],
 "metadata": {
  "kernelspec": {
   "display_name": "Python 3",
   "language": "python",
   "name": "python3"
  },
  "language_info": {
   "codemirror_mode": {
    "name": "ipython",
    "version": 3
   },
   "file_extension": ".py",
   "mimetype": "text/x-python",
   "name": "python",
   "nbconvert_exporter": "python",
   "pygments_lexer": "ipython3",
   "version": "3.6.5"
  }
 },
 "nbformat": 4,
 "nbformat_minor": 2
}
