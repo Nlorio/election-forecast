{
 "cells": [
  {
   "cell_type": "code",
   "execution_count": 60,
   "metadata": {
    "ExecuteTime": {
     "end_time": "2018-11-22T17:09:13.091245Z",
     "start_time": "2018-11-22T17:09:13.084216Z"
    }
   },
   "outputs": [],
   "source": [
    "import pandas as pd\n",
    "import numpy as np\n",
    "import re\n",
    "from pathlib import Path\n",
    "\n",
    "from sklearn.base import BaseEstimator, TransformerMixin\n",
    "\n",
    "GRADE_TO_SCORE = {'A+':13, 'A':12, 'A-':11, 'B+':10, 'B':9, 'B-':8, \n",
    "                  'C+':7, 'C':6, 'C-':5, 'D+':4, 'D':3, 'D-':2, 'F':1}\n",
    "\n",
    "DATA_DIR = Path('..')/'..'/'data'\n",
    "\n",
    "pd.set_option('display.max_rows', 500)"
   ]
  },
  {
   "cell_type": "code",
   "execution_count": 37,
   "metadata": {
    "ExecuteTime": {
     "end_time": "2018-11-22T16:56:19.788515Z",
     "start_time": "2018-11-22T16:56:19.666979Z"
    }
   },
   "outputs": [
    {
     "name": "stdout",
     "output_type": "stream",
     "text": [
      "19226 observations\n"
     ]
    },
    {
     "data": {
      "text/html": [
       "<div>\n",
       "<style scoped>\n",
       "    .dataframe tbody tr th:only-of-type {\n",
       "        vertical-align: middle;\n",
       "    }\n",
       "\n",
       "    .dataframe tbody tr th {\n",
       "        vertical-align: top;\n",
       "    }\n",
       "\n",
       "    .dataframe thead th {\n",
       "        text-align: right;\n",
       "    }\n",
       "</style>\n",
       "<table border=\"1\" class=\"dataframe\">\n",
       "  <thead>\n",
       "    <tr style=\"text-align: right;\">\n",
       "      <th></th>\n",
       "      <th>Race/Topic (Click to Sort)</th>\n",
       "      <th>Poll</th>\n",
       "      <th>Results</th>\n",
       "      <th>Spread</th>\n",
       "      <th>Date</th>\n",
       "      <th>Year</th>\n",
       "    </tr>\n",
       "  </thead>\n",
       "  <tbody>\n",
       "    <tr>\n",
       "      <th>0</th>\n",
       "      <td>Florida Senate - Rubio vs. Meek vs. Crist</td>\n",
       "      <td>quinnipiac</td>\n",
       "      <td>Crist 32, Rubio 30, Meek 24</td>\n",
       "      <td>Crist +2</td>\n",
       "      <td>2010-04-15</td>\n",
       "      <td>2010</td>\n",
       "    </tr>\n",
       "    <tr>\n",
       "      <th>1</th>\n",
       "      <td>Arkansas Senate - Boozman vs. Lincoln</td>\n",
       "      <td>r2000/daily kos (d)</td>\n",
       "      <td>Boozman 50, Lincoln 43</td>\n",
       "      <td>Boozman +7</td>\n",
       "      <td>2010-04-15</td>\n",
       "      <td>2010</td>\n",
       "    </tr>\n",
       "    <tr>\n",
       "      <th>2</th>\n",
       "      <td>Arkansas Senate - Boozman vs. Halter</td>\n",
       "      <td>r2000/daily kos (d)</td>\n",
       "      <td>Boozman 48, Halter 41</td>\n",
       "      <td>Boozman +7</td>\n",
       "      <td>2010-04-15</td>\n",
       "      <td>2010</td>\n",
       "    </tr>\n",
       "    <tr>\n",
       "      <th>3</th>\n",
       "      <td>Florida Senate - Rubio vs. Meek</td>\n",
       "      <td>quinnipiac</td>\n",
       "      <td>Rubio 42, Meek 38</td>\n",
       "      <td>Rubio +4</td>\n",
       "      <td>2010-04-15</td>\n",
       "      <td>2010</td>\n",
       "    </tr>\n",
       "    <tr>\n",
       "      <th>4</th>\n",
       "      <td>Florida Senate - Republican Primary</td>\n",
       "      <td>quinnipiac</td>\n",
       "      <td>Rubio 56, Crist 33</td>\n",
       "      <td>Rubio +23</td>\n",
       "      <td>2010-04-15</td>\n",
       "      <td>2010</td>\n",
       "    </tr>\n",
       "    <tr>\n",
       "      <th>5</th>\n",
       "      <td>Arkansas Senate - Democratic Primary</td>\n",
       "      <td>r2000/daily kos (d)</td>\n",
       "      <td>Lincoln 45, Halter 33</td>\n",
       "      <td>Lincoln +12</td>\n",
       "      <td>2010-04-15</td>\n",
       "      <td>2010</td>\n",
       "    </tr>\n",
       "    <tr>\n",
       "      <th>6</th>\n",
       "      <td>Florida Senate - Crist vs. Meek</td>\n",
       "      <td>quinnipiac</td>\n",
       "      <td>Crist 48, Meek 34</td>\n",
       "      <td>Crist +14</td>\n",
       "      <td>2010-04-15</td>\n",
       "      <td>2010</td>\n",
       "    </tr>\n",
       "    <tr>\n",
       "      <th>7</th>\n",
       "      <td>Generic Congressional Vote</td>\n",
       "      <td>ppp (d)</td>\n",
       "      <td>Republicans 47, Democrats 42</td>\n",
       "      <td>Republicans +5</td>\n",
       "      <td>2010-04-16</td>\n",
       "      <td>2010</td>\n",
       "    </tr>\n",
       "    <tr>\n",
       "      <th>8</th>\n",
       "      <td>Direction of Country</td>\n",
       "      <td>r2000/daily kos (d)</td>\n",
       "      <td>Right Direction 38, Wrong Track 58</td>\n",
       "      <td>Wrong Track +20</td>\n",
       "      <td>2010-04-16</td>\n",
       "      <td>2010</td>\n",
       "    </tr>\n",
       "    <tr>\n",
       "      <th>9</th>\n",
       "      <td>Arizona Senate - Republican Primary</td>\n",
       "      <td>rasmussen reports</td>\n",
       "      <td>McCain 47, Hayworth 42</td>\n",
       "      <td>McCain +5</td>\n",
       "      <td>2010-04-16</td>\n",
       "      <td>2010</td>\n",
       "    </tr>\n",
       "  </tbody>\n",
       "</table>\n",
       "</div>"
      ],
      "text/plain": [
       "                  Race/Topic (Click to Sort)                 Poll  \\\n",
       "0  Florida Senate - Rubio vs. Meek vs. Crist           quinnipiac   \n",
       "1      Arkansas Senate - Boozman vs. Lincoln  r2000/daily kos (d)   \n",
       "2       Arkansas Senate - Boozman vs. Halter  r2000/daily kos (d)   \n",
       "3            Florida Senate - Rubio vs. Meek           quinnipiac   \n",
       "4        Florida Senate - Republican Primary           quinnipiac   \n",
       "5       Arkansas Senate - Democratic Primary  r2000/daily kos (d)   \n",
       "6            Florida Senate - Crist vs. Meek           quinnipiac   \n",
       "7                 Generic Congressional Vote              ppp (d)   \n",
       "8                       Direction of Country  r2000/daily kos (d)   \n",
       "9        Arizona Senate - Republican Primary    rasmussen reports   \n",
       "\n",
       "                              Results           Spread        Date  Year  \n",
       "0         Crist 32, Rubio 30, Meek 24         Crist +2  2010-04-15  2010  \n",
       "1              Boozman 50, Lincoln 43       Boozman +7  2010-04-15  2010  \n",
       "2               Boozman 48, Halter 41       Boozman +7  2010-04-15  2010  \n",
       "3                   Rubio 42, Meek 38         Rubio +4  2010-04-15  2010  \n",
       "4                  Rubio 56, Crist 33        Rubio +23  2010-04-15  2010  \n",
       "5               Lincoln 45, Halter 33      Lincoln +12  2010-04-15  2010  \n",
       "6                   Crist 48, Meek 34        Crist +14  2010-04-15  2010  \n",
       "7        Republicans 47, Democrats 42   Republicans +5  2010-04-16  2010  \n",
       "8  Right Direction 38, Wrong Track 58  Wrong Track +20  2010-04-16  2010  \n",
       "9              McCain 47, Hayworth 42        McCain +5  2010-04-16  2010  "
      ]
     },
     "execution_count": 37,
     "metadata": {},
     "output_type": "execute_result"
    }
   ],
   "source": [
    "rcp = pd.read_csv(DATA_DIR/'cleaned'/'Final_Polls_Nov_5.csv')\n",
    "print(f\"{len(rcp)} observations\")\n",
    "rcp['Poll'] = rcp['Poll'].str.lower()\n",
    "rcp.head(10)"
   ]
  },
  {
   "cell_type": "code",
   "execution_count": 38,
   "metadata": {
    "ExecuteTime": {
     "end_time": "2018-11-22T16:56:20.128630Z",
     "start_time": "2018-11-22T16:56:20.109847Z"
    }
   },
   "outputs": [
    {
     "name": "stdout",
     "output_type": "stream",
     "text": [
      "396 observations\n"
     ]
    },
    {
     "data": {
      "text/html": [
       "<div>\n",
       "<style scoped>\n",
       "    .dataframe tbody tr th:only-of-type {\n",
       "        vertical-align: middle;\n",
       "    }\n",
       "\n",
       "    .dataframe tbody tr th {\n",
       "        vertical-align: top;\n",
       "    }\n",
       "\n",
       "    .dataframe thead th {\n",
       "        text-align: right;\n",
       "    }\n",
       "</style>\n",
       "<table border=\"1\" class=\"dataframe\">\n",
       "  <thead>\n",
       "    <tr style=\"text-align: right;\">\n",
       "      <th></th>\n",
       "      <th>Pollster</th>\n",
       "      <th>538 Grade</th>\n",
       "    </tr>\n",
       "  </thead>\n",
       "  <tbody>\n",
       "    <tr>\n",
       "      <th>0</th>\n",
       "      <td>selzer &amp; co.</td>\n",
       "      <td>A+</td>\n",
       "    </tr>\n",
       "    <tr>\n",
       "      <th>1</th>\n",
       "      <td>monmouth university</td>\n",
       "      <td>A+</td>\n",
       "    </tr>\n",
       "    <tr>\n",
       "      <th>2</th>\n",
       "      <td>field research corp. (field poll)</td>\n",
       "      <td>A+</td>\n",
       "    </tr>\n",
       "    <tr>\n",
       "      <th>3</th>\n",
       "      <td>abc news/washington post</td>\n",
       "      <td>A+</td>\n",
       "    </tr>\n",
       "    <tr>\n",
       "      <th>4</th>\n",
       "      <td>elway research</td>\n",
       "      <td>A+</td>\n",
       "    </tr>\n",
       "    <tr>\n",
       "      <th>5</th>\n",
       "      <td>ciruli associates</td>\n",
       "      <td>A+</td>\n",
       "    </tr>\n",
       "    <tr>\n",
       "      <th>6</th>\n",
       "      <td>surveyusa</td>\n",
       "      <td>A</td>\n",
       "    </tr>\n",
       "    <tr>\n",
       "      <th>7</th>\n",
       "      <td>muhlenberg college</td>\n",
       "      <td>A</td>\n",
       "    </tr>\n",
       "    <tr>\n",
       "      <th>8</th>\n",
       "      <td>marist college</td>\n",
       "      <td>A</td>\n",
       "    </tr>\n",
       "    <tr>\n",
       "      <th>9</th>\n",
       "      <td>grove insight</td>\n",
       "      <td>A</td>\n",
       "    </tr>\n",
       "  </tbody>\n",
       "</table>\n",
       "</div>"
      ],
      "text/plain": [
       "                            Pollster 538 Grade\n",
       "0                       selzer & co.        A+\n",
       "1                monmouth university        A+\n",
       "2  field research corp. (field poll)        A+\n",
       "3           abc news/washington post        A+\n",
       "4                     elway research        A+\n",
       "5                  ciruli associates        A+\n",
       "6                          surveyusa         A\n",
       "7                 muhlenberg college         A\n",
       "8                     marist college         A\n",
       "9                      grove insight         A"
      ]
     },
     "execution_count": 38,
     "metadata": {},
     "output_type": "execute_result"
    }
   ],
   "source": [
    "pollster = pd.read_csv(DATA_DIR/'cleaned'/'pollster_grades_538.csv')\n",
    "print(f\"{len(pollster)} observations\")\n",
    "pollster['Pollster'] = pollster['Pollster'].str.lower()\n",
    "pollster.head(10)"
   ]
  },
  {
   "cell_type": "code",
   "execution_count": 39,
   "metadata": {
    "ExecuteTime": {
     "end_time": "2018-11-22T16:56:20.537776Z",
     "start_time": "2018-11-22T16:56:20.527138Z"
    }
   },
   "outputs": [
    {
     "data": {
      "text/html": [
       "<div>\n",
       "<style scoped>\n",
       "    .dataframe tbody tr th:only-of-type {\n",
       "        vertical-align: middle;\n",
       "    }\n",
       "\n",
       "    .dataframe tbody tr th {\n",
       "        vertical-align: top;\n",
       "    }\n",
       "\n",
       "    .dataframe thead th {\n",
       "        text-align: right;\n",
       "    }\n",
       "</style>\n",
       "<table border=\"1\" class=\"dataframe\">\n",
       "  <thead>\n",
       "    <tr style=\"text-align: right;\">\n",
       "      <th></th>\n",
       "      <th>Pollster</th>\n",
       "      <th>538 Grade</th>\n",
       "    </tr>\n",
       "  </thead>\n",
       "  <tbody>\n",
       "    <tr>\n",
       "      <th>73</th>\n",
       "      <td>public policy polling</td>\n",
       "      <td>B</td>\n",
       "    </tr>\n",
       "  </tbody>\n",
       "</table>\n",
       "</div>"
      ],
      "text/plain": [
       "                 Pollster 538 Grade\n",
       "73  public policy polling         B"
      ]
     },
     "execution_count": 39,
     "metadata": {},
     "output_type": "execute_result"
    }
   ],
   "source": [
    "pollster[pollster['Pollster'].str.contains('public policy polling')]"
   ]
  },
  {
   "cell_type": "code",
   "execution_count": 76,
   "metadata": {
    "ExecuteTime": {
     "end_time": "2018-11-22T17:15:24.244503Z",
     "start_time": "2018-11-22T17:15:24.232980Z"
    }
   },
   "outputs": [
    {
     "data": {
      "text/html": [
       "<div>\n",
       "<style scoped>\n",
       "    .dataframe tbody tr th:only-of-type {\n",
       "        vertical-align: middle;\n",
       "    }\n",
       "\n",
       "    .dataframe tbody tr th {\n",
       "        vertical-align: top;\n",
       "    }\n",
       "\n",
       "    .dataframe thead th {\n",
       "        text-align: right;\n",
       "    }\n",
       "</style>\n",
       "<table border=\"1\" class=\"dataframe\">\n",
       "  <thead>\n",
       "    <tr style=\"text-align: right;\">\n",
       "      <th></th>\n",
       "      <th>Pollster</th>\n",
       "      <th>538 Grade</th>\n",
       "    </tr>\n",
       "  </thead>\n",
       "  <tbody>\n",
       "    <tr>\n",
       "      <th>226</th>\n",
       "      <td>oh predictive insights/mbqf</td>\n",
       "      <td>C+</td>\n",
       "    </tr>\n",
       "  </tbody>\n",
       "</table>\n",
       "</div>"
      ],
      "text/plain": [
       "                        Pollster 538 Grade\n",
       "226  oh predictive insights/mbqf        C+"
      ]
     },
     "execution_count": 76,
     "metadata": {},
     "output_type": "execute_result"
    }
   ],
   "source": [
    "pollster[pollster['Pollster'].str.contains('predictive')]"
   ]
  },
  {
   "cell_type": "code",
   "execution_count": 77,
   "metadata": {
    "ExecuteTime": {
     "end_time": "2018-11-22T17:15:31.835137Z",
     "start_time": "2018-11-22T17:15:31.807183Z"
    }
   },
   "outputs": [
    {
     "data": {
      "text/html": [
       "<div>\n",
       "<style scoped>\n",
       "    .dataframe tbody tr th:only-of-type {\n",
       "        vertical-align: middle;\n",
       "    }\n",
       "\n",
       "    .dataframe tbody tr th {\n",
       "        vertical-align: top;\n",
       "    }\n",
       "\n",
       "    .dataframe thead th {\n",
       "        text-align: right;\n",
       "    }\n",
       "</style>\n",
       "<table border=\"1\" class=\"dataframe\">\n",
       "  <thead>\n",
       "    <tr style=\"text-align: right;\">\n",
       "      <th></th>\n",
       "      <th>Race/Topic (Click to Sort)</th>\n",
       "      <th>Poll</th>\n",
       "      <th>Results</th>\n",
       "      <th>Spread</th>\n",
       "      <th>Date</th>\n",
       "      <th>Year</th>\n",
       "    </tr>\n",
       "  </thead>\n",
       "  <tbody>\n",
       "    <tr>\n",
       "      <th>13902</th>\n",
       "      <td>Arizona Republican Presidential Primary</td>\n",
       "      <td>mbqf (r)</td>\n",
       "      <td>Trump 37, Cruz 23, Kasich 15</td>\n",
       "      <td>Trump +14</td>\n",
       "      <td>2016-03-10</td>\n",
       "      <td>2016</td>\n",
       "    </tr>\n",
       "  </tbody>\n",
       "</table>\n",
       "</div>"
      ],
      "text/plain": [
       "                    Race/Topic (Click to Sort)      Poll  \\\n",
       "13902  Arizona Republican Presidential Primary  mbqf (r)   \n",
       "\n",
       "                            Results     Spread        Date  Year  \n",
       "13902  Trump 37, Cruz 23, Kasich 15  Trump +14  2016-03-10  2016  "
      ]
     },
     "execution_count": 77,
     "metadata": {},
     "output_type": "execute_result"
    }
   ],
   "source": [
    "rcp[rcp['Poll'].str.contains('mbqf')]"
   ]
  }
 ],
 "metadata": {
  "kernelspec": {
   "display_name": "Python 3",
   "language": "python",
   "name": "python3"
  },
  "language_info": {
   "codemirror_mode": {
    "name": "ipython",
    "version": 3
   },
   "file_extension": ".py",
   "mimetype": "text/x-python",
   "name": "python",
   "nbconvert_exporter": "python",
   "pygments_lexer": "ipython3",
   "version": "3.6.6"
  }
 },
 "nbformat": 4,
 "nbformat_minor": 2
}
