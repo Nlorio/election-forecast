{
 "cells": [
  {
   "cell_type": "code",
   "execution_count": 1,
   "metadata": {},
   "outputs": [],
   "source": [
    "import pandas as pd\n",
    "import numpy as np\n",
    "import matplotlib.pyplot as plt\n",
    "import heapq\n",
    "\n",
    "from sklearn.base import BaseEstimator, TransformerMixin\n",
    "\n",
    "import us\n",
    "STATES_DICT = us.states.mapping('name', 'abbr')\n",
    "GRADE_TO_SCORE = {'A+':13, 'A':12, 'A-':11, 'B+':10, 'B':9, 'B-':8, \n",
    "                  'C+':7, 'C':6, 'C-':5, 'D+':4, 'D':3, 'D-':2, 'F':1}\n",
    "\n",
    "from pathlib import Path\n",
    "DATA_DIR = Path('..')/'..'/'data'"
   ]
  },
  {
   "cell_type": "code",
   "execution_count": null,
   "metadata": {},
   "outputs": [],
   "source": []
  }
 ],
 "metadata": {
  "kernelspec": {
   "display_name": "Python 3",
   "language": "python",
   "name": "python3"
  },
  "language_info": {
   "codemirror_mode": {
    "name": "ipython",
    "version": 3
   },
   "file_extension": ".py",
   "mimetype": "text/x-python",
   "name": "python",
   "nbconvert_exporter": "python",
   "pygments_lexer": "ipython3",
   "version": "3.6.6"
  }
 },
 "nbformat": 4,
 "nbformat_minor": 2
}
