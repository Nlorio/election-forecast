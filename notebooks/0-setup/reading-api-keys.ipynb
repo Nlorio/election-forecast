{
 "cells": [
  {
   "cell_type": "code",
   "execution_count": 1,
   "metadata": {
    "ExecuteTime": {
     "end_time": "2018-10-21T17:35:21.606723Z",
     "start_time": "2018-10-21T17:35:21.584160Z"
    }
   },
   "outputs": [],
   "source": [
    "import yaml\n",
    "from pathlib import Path\n",
    "\n",
    "# Change the following path accordingly; do not use slashes inside text quotes\n",
    "CONFIG_FILE = Path('.')/Path('sample_config.yaml')"
   ]
  },
  {
   "cell_type": "code",
   "execution_count": 2,
   "metadata": {
    "ExecuteTime": {
     "end_time": "2018-10-21T17:35:21.759404Z",
     "start_time": "2018-10-21T17:35:21.609278Z"
    }
   },
   "outputs": [
    {
     "name": "stdout",
     "output_type": "stream",
     "text": [
      "twitter:\r\n",
      "    consumer_key: your_consumer_key_goes_here\r\n",
      "    consumer_secret: your_consumer_secret_goes_here\r\n",
      "    access_token: your_access_token_goes_here\r\n",
      "    access_token_secret: your_access_token_secret_goes_here\r\n"
     ]
    }
   ],
   "source": [
    "# This is what our config file looks like\n",
    "!cat $CONFIG_FILE"
   ]
  },
  {
   "cell_type": "code",
   "execution_count": 3,
   "metadata": {
    "ExecuteTime": {
     "end_time": "2018-10-21T17:35:21.766439Z",
     "start_time": "2018-10-21T17:35:21.761281Z"
    }
   },
   "outputs": [],
   "source": [
    "with open(CONFIG_FILE, 'r') as f:\n",
    "    config = yaml.load(f)"
   ]
  },
  {
   "cell_type": "code",
   "execution_count": 4,
   "metadata": {
    "ExecuteTime": {
     "end_time": "2018-10-21T17:35:21.792383Z",
     "start_time": "2018-10-21T17:35:21.768899Z"
    }
   },
   "outputs": [
    {
     "data": {
      "text/plain": [
       "{'twitter': {'consumer_key': 'your_consumer_key_goes_here',\n",
       "  'consumer_secret': 'your_consumer_secret_goes_here',\n",
       "  'access_token': 'your_access_token_goes_here',\n",
       "  'access_token_secret': 'your_access_token_secret_goes_here'}}"
      ]
     },
     "execution_count": 4,
     "metadata": {},
     "output_type": "execute_result"
    }
   ],
   "source": [
    "config"
   ]
  },
  {
   "cell_type": "code",
   "execution_count": 5,
   "metadata": {
    "ExecuteTime": {
     "end_time": "2018-10-21T17:35:21.811508Z",
     "start_time": "2018-10-21T17:35:21.794147Z"
    }
   },
   "outputs": [
    {
     "data": {
      "text/plain": [
       "{'consumer_key': 'your_consumer_key_goes_here',\n",
       " 'consumer_secret': 'your_consumer_secret_goes_here',\n",
       " 'access_token': 'your_access_token_goes_here',\n",
       " 'access_token_secret': 'your_access_token_secret_goes_here'}"
      ]
     },
     "execution_count": 5,
     "metadata": {},
     "output_type": "execute_result"
    }
   ],
   "source": [
    "config['twitter']"
   ]
  },
  {
   "cell_type": "code",
   "execution_count": 6,
   "metadata": {
    "ExecuteTime": {
     "end_time": "2018-10-21T17:35:21.836843Z",
     "start_time": "2018-10-21T17:35:21.813249Z"
    }
   },
   "outputs": [
    {
     "data": {
      "text/plain": [
       "'your_consumer_key_goes_here'"
      ]
     },
     "execution_count": 6,
     "metadata": {},
     "output_type": "execute_result"
    }
   ],
   "source": [
    "config['twitter']['consumer_key']"
   ]
  }
 ],
 "metadata": {
  "kernelspec": {
   "display_name": "Python 3",
   "language": "python",
   "name": "python3"
  },
  "language_info": {
   "codemirror_mode": {
    "name": "ipython",
    "version": 3
   },
   "file_extension": ".py",
   "mimetype": "text/x-python",
   "name": "python",
   "nbconvert_exporter": "python",
   "pygments_lexer": "ipython3",
   "version": "3.6.6"
  }
 },
 "nbformat": 4,
 "nbformat_minor": 2
}
