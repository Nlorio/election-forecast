{
 "cells": [
  {
   "cell_type": "code",
   "execution_count": 1,
   "metadata": {},
   "outputs": [
    {
     "data": {
      "text/html": [
       "<style>.container { width:90% !important; }</style>"
      ],
      "text/plain": [
       "<IPython.core.display.HTML object>"
      ]
     },
     "metadata": {},
     "output_type": "display_data"
    }
   ],
   "source": [
    "import numpy as np\n",
    "import pandas as pd\n",
    "import matplotlib.pyplot as plt\n",
    "import seaborn as sns\n",
    "import datetime\n",
    "import re\n",
    "# stretch Jupyter coding blocks to fit screen\n",
    "from IPython.core.display import display, HTML\n",
    "display(HTML(\"<style>.container { width:90% !important; }</style>\")) \n",
    "# if 100% it would fit the screen\n",
    "\n",
    "# make it run on py2 and py3\n",
    "from __future__ import division, print_function\n",
    "\n",
    "import requests # The requests library is an \n",
    "# HTTP library for getting and posting content etc.\n",
    "\n",
    "import bs4 as bs # BeautifulSoup4 is a Python library \n",
    "# for pulling data out of HTML and XML code.\n",
    "# We can query markup languages for specific content\n",
    "import html5lib"
   ]
  },
  {
   "cell_type": "code",
   "execution_count": 2,
   "metadata": {
    "collapsed": true
   },
   "outputs": [],
   "source": [
    "direction = pd.read_csv(\"../data/cleaned/RCP_direction.csv\")\n",
    "generic = pd.read_csv(\"../data/cleaned/RCP_generic.csv\")\n",
    "governor = pd.read_csv(\"../data/cleaned/RCP_governor.csv\")\n",
    "approval = pd.read_csv(\"../data/cleaned/RCP_approval.csv\")\n",
    "president  = pd.read_csv(\"../data/cleaned/RCP_p_approval.csv\")\n",
    "congress = pd.read_csv(\"../data/cleaned/RCP_c_approval.csv\")\n",
    "house = pd.read_csv(\"../data/cleaned/RCP_house.csv\")\n",
    "senate = pd.read_csv(\"../data/cleaned/RCP_senate.csv\")"
   ]
  },
  {
   "cell_type": "code",
   "execution_count": 35,
   "metadata": {
    "collapsed": true
   },
   "outputs": [],
   "source": [
    "control = []\n",
    "for element in range(len(president)):\n",
    "    race = president.iloc[element,:][\"Race/Topic (Click to Sort)\"]\n",
    "    z = re.match(r\".*Obama.*\", race)\n",
    "    if z:\n",
    "        control.append(\"D\")\n",
    "    y = re.match(r\".*Trump.*\", race)\n",
    "    if y:\n",
    "        control.append(\"R\")\n",
    "president[\"Control\"] = control"
   ]
  },
  {
   "cell_type": "code",
   "execution_count": 5,
   "metadata": {},
   "outputs": [
    {
     "data": {
      "text/plain": [
       "'2010-04-15'"
      ]
     },
     "execution_count": 5,
     "metadata": {},
     "output_type": "execute_result"
    }
   ],
   "source": [
    "senate[\"Date\"][0]"
   ]
  },
  {
   "cell_type": "code",
   "execution_count": 36,
   "metadata": {},
   "outputs": [
    {
     "data": {
      "text/html": [
       "<div>\n",
       "<style>\n",
       "    .dataframe thead tr:only-child th {\n",
       "        text-align: right;\n",
       "    }\n",
       "\n",
       "    .dataframe thead th {\n",
       "        text-align: left;\n",
       "    }\n",
       "\n",
       "    .dataframe tbody tr th {\n",
       "        vertical-align: top;\n",
       "    }\n",
       "</style>\n",
       "<table border=\"1\" class=\"dataframe\">\n",
       "  <thead>\n",
       "    <tr style=\"text-align: right;\">\n",
       "      <th></th>\n",
       "      <th>Unnamed: 0</th>\n",
       "      <th>Race/Topic (Click to Sort)</th>\n",
       "      <th>Poll</th>\n",
       "      <th>Results</th>\n",
       "      <th>Spread</th>\n",
       "      <th>Date</th>\n",
       "      <th>Year</th>\n",
       "      <th>Control</th>\n",
       "    </tr>\n",
       "  </thead>\n",
       "  <tbody>\n",
       "    <tr>\n",
       "      <th>0</th>\n",
       "      <td>0</td>\n",
       "      <td>President Obama Job Approval</td>\n",
       "      <td>Quinnipiac</td>\n",
       "      <td>Approve 44, Disapprove 46</td>\n",
       "      <td>Disapprove +2</td>\n",
       "      <td>2010-04-21</td>\n",
       "      <td>2010.0</td>\n",
       "      <td>D</td>\n",
       "    </tr>\n",
       "    <tr>\n",
       "      <th>1</th>\n",
       "      <td>1</td>\n",
       "      <td>President Obama Job Approval</td>\n",
       "      <td>FOX News</td>\n",
       "      <td>Approve 46, Disapprove 46</td>\n",
       "      <td>Tie</td>\n",
       "      <td>2010-04-22</td>\n",
       "      <td>2010.0</td>\n",
       "      <td>D</td>\n",
       "    </tr>\n",
       "    <tr>\n",
       "      <th>2</th>\n",
       "      <td>2</td>\n",
       "      <td>President Obama Job Approval</td>\n",
       "      <td>Gallup</td>\n",
       "      <td>Approve 50, Disapprove 43</td>\n",
       "      <td>Approve +7</td>\n",
       "      <td>2010-04-25</td>\n",
       "      <td>2010.0</td>\n",
       "      <td>D</td>\n",
       "    </tr>\n",
       "    <tr>\n",
       "      <th>3</th>\n",
       "      <td>3</td>\n",
       "      <td>President Obama Job Approval</td>\n",
       "      <td>Rasmussen Reports</td>\n",
       "      <td>Approve 45, Disapprove 54</td>\n",
       "      <td>Disapprove +9</td>\n",
       "      <td>2010-04-25</td>\n",
       "      <td>2010.0</td>\n",
       "      <td>D</td>\n",
       "    </tr>\n",
       "    <tr>\n",
       "      <th>4</th>\n",
       "      <td>4</td>\n",
       "      <td>President Obama Job Approval</td>\n",
       "      <td>Democracy Corps (D)</td>\n",
       "      <td>Approve 48, Disapprove 46</td>\n",
       "      <td>Approve +2</td>\n",
       "      <td>2010-04-27</td>\n",
       "      <td>2010.0</td>\n",
       "      <td>D</td>\n",
       "    </tr>\n",
       "  </tbody>\n",
       "</table>\n",
       "</div>"
      ],
      "text/plain": [
       "   Unnamed: 0    Race/Topic (Click to Sort)                 Poll  \\\n",
       "0           0  President Obama Job Approval           Quinnipiac   \n",
       "1           1  President Obama Job Approval             FOX News   \n",
       "2           2  President Obama Job Approval               Gallup   \n",
       "3           3  President Obama Job Approval    Rasmussen Reports   \n",
       "4           4  President Obama Job Approval  Democracy Corps (D)   \n",
       "\n",
       "                     Results         Spread        Date    Year Control  \n",
       "0  Approve 44, Disapprove 46  Disapprove +2  2010-04-21  2010.0       D  \n",
       "1  Approve 46, Disapprove 46            Tie  2010-04-22  2010.0       D  \n",
       "2  Approve 50, Disapprove 43     Approve +7  2010-04-25  2010.0       D  \n",
       "3  Approve 45, Disapprove 54  Disapprove +9  2010-04-25  2010.0       D  \n",
       "4  Approve 48, Disapprove 46     Approve +2  2010-04-27  2010.0       D  "
      ]
     },
     "execution_count": 36,
     "metadata": {},
     "output_type": "execute_result"
    }
   ],
   "source": [
    "president.head()"
   ]
  },
  {
   "cell_type": "code",
   "execution_count": 38,
   "metadata": {},
   "outputs": [
    {
     "data": {
      "text/html": [
       "<div>\n",
       "<style>\n",
       "    .dataframe thead tr:only-child th {\n",
       "        text-align: right;\n",
       "    }\n",
       "\n",
       "    .dataframe thead th {\n",
       "        text-align: left;\n",
       "    }\n",
       "\n",
       "    .dataframe tbody tr th {\n",
       "        vertical-align: top;\n",
       "    }\n",
       "</style>\n",
       "<table border=\"1\" class=\"dataframe\">\n",
       "  <thead>\n",
       "    <tr style=\"text-align: right;\">\n",
       "      <th></th>\n",
       "      <th>Unnamed: 0</th>\n",
       "      <th>Race/Topic (Click to Sort)</th>\n",
       "      <th>Poll</th>\n",
       "      <th>Results</th>\n",
       "      <th>Spread</th>\n",
       "      <th>Date</th>\n",
       "      <th>Year</th>\n",
       "      <th>Control</th>\n",
       "      <th>Org</th>\n",
       "    </tr>\n",
       "  </thead>\n",
       "  <tbody>\n",
       "    <tr>\n",
       "      <th>0</th>\n",
       "      <td>0</td>\n",
       "      <td>President Obama Job Approval</td>\n",
       "      <td>Quinnipiac</td>\n",
       "      <td>Approve 44, Disapprove 46</td>\n",
       "      <td>Disapprove +2</td>\n",
       "      <td>2010-04-21</td>\n",
       "      <td>2010.0</td>\n",
       "      <td>D</td>\n",
       "      <td>Quinnipiac</td>\n",
       "    </tr>\n",
       "    <tr>\n",
       "      <th>1</th>\n",
       "      <td>1</td>\n",
       "      <td>President Obama Job Approval</td>\n",
       "      <td>FOX News</td>\n",
       "      <td>Approve 46, Disapprove 46</td>\n",
       "      <td>Tie</td>\n",
       "      <td>2010-04-22</td>\n",
       "      <td>2010.0</td>\n",
       "      <td>D</td>\n",
       "      <td>FOX News</td>\n",
       "    </tr>\n",
       "    <tr>\n",
       "      <th>2</th>\n",
       "      <td>2</td>\n",
       "      <td>President Obama Job Approval</td>\n",
       "      <td>Gallup</td>\n",
       "      <td>Approve 50, Disapprove 43</td>\n",
       "      <td>Approve +7</td>\n",
       "      <td>2010-04-25</td>\n",
       "      <td>2010.0</td>\n",
       "      <td>D</td>\n",
       "      <td>Gallup</td>\n",
       "    </tr>\n",
       "    <tr>\n",
       "      <th>3</th>\n",
       "      <td>3</td>\n",
       "      <td>President Obama Job Approval</td>\n",
       "      <td>Rasmussen Reports</td>\n",
       "      <td>Approve 45, Disapprove 54</td>\n",
       "      <td>Disapprove +9</td>\n",
       "      <td>2010-04-25</td>\n",
       "      <td>2010.0</td>\n",
       "      <td>D</td>\n",
       "      <td>Rasmussen Reports</td>\n",
       "    </tr>\n",
       "    <tr>\n",
       "      <th>4</th>\n",
       "      <td>4</td>\n",
       "      <td>President Obama Job Approval</td>\n",
       "      <td>Democracy Corps (D)</td>\n",
       "      <td>Approve 48, Disapprove 46</td>\n",
       "      <td>Approve +2</td>\n",
       "      <td>2010-04-27</td>\n",
       "      <td>2010.0</td>\n",
       "      <td>D</td>\n",
       "      <td>Democracy Corps (D)</td>\n",
       "    </tr>\n",
       "  </tbody>\n",
       "</table>\n",
       "</div>"
      ],
      "text/plain": [
       "   Unnamed: 0    Race/Topic (Click to Sort)                 Poll  \\\n",
       "0           0  President Obama Job Approval           Quinnipiac   \n",
       "1           1  President Obama Job Approval             FOX News   \n",
       "2           2  President Obama Job Approval               Gallup   \n",
       "3           3  President Obama Job Approval    Rasmussen Reports   \n",
       "4           4  President Obama Job Approval  Democracy Corps (D)   \n",
       "\n",
       "                     Results         Spread        Date    Year Control  \\\n",
       "0  Approve 44, Disapprove 46  Disapprove +2  2010-04-21  2010.0       D   \n",
       "1  Approve 46, Disapprove 46            Tie  2010-04-22  2010.0       D   \n",
       "2  Approve 50, Disapprove 43     Approve +7  2010-04-25  2010.0       D   \n",
       "3  Approve 45, Disapprove 54  Disapprove +9  2010-04-25  2010.0       D   \n",
       "4  Approve 48, Disapprove 46     Approve +2  2010-04-27  2010.0       D   \n",
       "\n",
       "                   Org  \n",
       "0           Quinnipiac  \n",
       "1             FOX News  \n",
       "2               Gallup  \n",
       "3    Rasmussen Reports  \n",
       "4  Democracy Corps (D)  "
      ]
     },
     "execution_count": 38,
     "metadata": {},
     "output_type": "execute_result"
    }
   ],
   "source": [
    "president[\"Org\"] = president[\"Poll\"].astype(\"category\")\n",
    "president.head()"
   ]
  },
  {
   "cell_type": "code",
   "execution_count": 39,
   "metadata": {},
   "outputs": [
    {
     "data": {
      "text/plain": [
       "[Quinnipiac, FOX News, Gallup, Rasmussen Reports, Democracy Corps (D), ..., CNBC, NPR/PBS/Marist, PBS/Marist, Grinnell/Selzer, NPR/Marist]\n",
       "Length: 64\n",
       "Categories (64, object): [Quinnipiac, FOX News, Gallup, Rasmussen Reports, ..., NPR/PBS/Marist, PBS/Marist, Grinnell/Selzer, NPR/Marist]"
      ]
     },
     "execution_count": 39,
     "metadata": {},
     "output_type": "execute_result"
    }
   ],
   "source": []
  },
  {
   "cell_type": "code",
   "execution_count": null,
   "metadata": {
    "collapsed": true
   },
   "outputs": [],
   "source": []
  }
 ],
 "metadata": {
  "kernelspec": {
   "display_name": "Python 3",
   "language": "python",
   "name": "python3"
  },
  "language_info": {
   "codemirror_mode": {
    "name": "ipython",
    "version": 3
   },
   "file_extension": ".py",
   "mimetype": "text/x-python",
   "name": "python",
   "nbconvert_exporter": "python",
   "pygments_lexer": "ipython3",
   "version": "3.6.3"
  }
 },
 "nbformat": 4,
 "nbformat_minor": 2
}
