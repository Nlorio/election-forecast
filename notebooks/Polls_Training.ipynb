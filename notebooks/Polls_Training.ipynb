{
 "cells": [
  {
   "cell_type": "code",
   "execution_count": 17,
   "metadata": {},
   "outputs": [
    {
     "data": {
      "text/html": [
       "<style>.container { width:90% !important; }</style>"
      ],
      "text/plain": [
       "<IPython.core.display.HTML object>"
      ]
     },
     "metadata": {},
     "output_type": "display_data"
    }
   ],
   "source": [
    "import numpy as np\n",
    "import pandas as pd\n",
    "import matplotlib.pyplot as plt\n",
    "import seaborn as sns\n",
    "import datetime\n",
    "import re\n",
    "# stretch Jupyter coding blocks to fit screen\n",
    "from IPython.core.display import display, HTML\n",
    "display(HTML(\"<style>.container { width:90% !important; }</style>\")) \n",
    "# if 100% it would fit the screen\n",
    "\n",
    "# make it run on py2 and py3\n",
    "from __future__ import division, print_function\n",
    "\n",
    "import requests # The requests library is an \n",
    "# HTTP library for getting and posting content etc.\n",
    "\n",
    "import bs4 as bs # BeautifulSoup4 is a Python library \n",
    "# for pulling data out of HTML and XML code.\n",
    "# We can query markup languages for specific content\n",
    "import html5lib"
   ]
  },
  {
   "cell_type": "code",
   "execution_count": 6,
   "metadata": {},
   "outputs": [],
   "source": [
    "direction = pd.read_csv(\"../data/cleaned/RCP_direction.csv\")\n",
    "generic = pd.read_csv(\"../data/cleaned/RCP_generic.csv\")\n",
    "governor = pd.read_csv(\"../data/cleaned/RCP_governor.csv\")\n",
    "approval = pd.read_csv(\"../data/cleaned/RCP_approval.csv\")\n",
    "house = pd.read_csv(\"../data/cleaned/RCP_house.csv\")\n",
    "senate = pd.read_csv(\"../data/cleaned/RCP_senate.csv\")"
   ]
  },
  {
   "cell_type": "code",
   "execution_count": 13,
   "metadata": {},
   "outputs": [
    {
     "data": {
      "text/html": [
       "<div>\n",
       "<style>\n",
       "    .dataframe thead tr:only-child th {\n",
       "        text-align: right;\n",
       "    }\n",
       "\n",
       "    .dataframe thead th {\n",
       "        text-align: left;\n",
       "    }\n",
       "\n",
       "    .dataframe tbody tr th {\n",
       "        vertical-align: top;\n",
       "    }\n",
       "</style>\n",
       "<table border=\"1\" class=\"dataframe\">\n",
       "  <thead>\n",
       "    <tr style=\"text-align: right;\">\n",
       "      <th></th>\n",
       "      <th>Race/Topic (Click to Sort)</th>\n",
       "      <th>Poll</th>\n",
       "      <th>Results</th>\n",
       "      <th>Spread</th>\n",
       "      <th>Date</th>\n",
       "      <th>Unnamed: 0</th>\n",
       "      <th>Year</th>\n",
       "    </tr>\n",
       "  </thead>\n",
       "  <tbody>\n",
       "    <tr>\n",
       "      <th>0</th>\n",
       "      <td>President Obama Job Approval</td>\n",
       "      <td>Quinnipiac</td>\n",
       "      <td>Approve 44, Disapprove 46</td>\n",
       "      <td>Disapprove +2</td>\n",
       "      <td>2010-04-21</td>\n",
       "      <td>1.0</td>\n",
       "      <td>2010.0</td>\n",
       "    </tr>\n",
       "    <tr>\n",
       "      <th>1</th>\n",
       "      <td>President Obama Job Approval</td>\n",
       "      <td>FOX News</td>\n",
       "      <td>Approve 46, Disapprove 46</td>\n",
       "      <td>Tie</td>\n",
       "      <td>2010-04-22</td>\n",
       "      <td>3.0</td>\n",
       "      <td>2010.0</td>\n",
       "    </tr>\n",
       "    <tr>\n",
       "      <th>2</th>\n",
       "      <td>President Obama Job Approval</td>\n",
       "      <td>Gallup</td>\n",
       "      <td>Approve 50, Disapprove 43</td>\n",
       "      <td>Approve +7</td>\n",
       "      <td>2010-04-25</td>\n",
       "      <td>4.0</td>\n",
       "      <td>2010.0</td>\n",
       "    </tr>\n",
       "    <tr>\n",
       "      <th>3</th>\n",
       "      <td>President Obama Job Approval</td>\n",
       "      <td>Rasmussen Reports</td>\n",
       "      <td>Approve 45, Disapprove 54</td>\n",
       "      <td>Disapprove +9</td>\n",
       "      <td>2010-04-25</td>\n",
       "      <td>5.0</td>\n",
       "      <td>2010.0</td>\n",
       "    </tr>\n",
       "    <tr>\n",
       "      <th>4</th>\n",
       "      <td>President Obama Job Approval</td>\n",
       "      <td>Democracy Corps (D)</td>\n",
       "      <td>Approve 48, Disapprove 46</td>\n",
       "      <td>Approve +2</td>\n",
       "      <td>2010-04-27</td>\n",
       "      <td>6.0</td>\n",
       "      <td>2010.0</td>\n",
       "    </tr>\n",
       "  </tbody>\n",
       "</table>\n",
       "</div>"
      ],
      "text/plain": [
       "     Race/Topic (Click to Sort)                 Poll  \\\n",
       "0  President Obama Job Approval           Quinnipiac   \n",
       "1  President Obama Job Approval             FOX News   \n",
       "2  President Obama Job Approval               Gallup   \n",
       "3  President Obama Job Approval    Rasmussen Reports   \n",
       "4  President Obama Job Approval  Democracy Corps (D)   \n",
       "\n",
       "                     Results         Spread        Date  Unnamed: 0    Year  \n",
       "0  Approve 44, Disapprove 46  Disapprove +2  2010-04-21         1.0  2010.0  \n",
       "1  Approve 46, Disapprove 46            Tie  2010-04-22         3.0  2010.0  \n",
       "2  Approve 50, Disapprove 43     Approve +7  2010-04-25         4.0  2010.0  \n",
       "3  Approve 45, Disapprove 54  Disapprove +9  2010-04-25         5.0  2010.0  \n",
       "4  Approve 48, Disapprove 46     Approve +2  2010-04-27         6.0  2010.0  "
      ]
     },
     "execution_count": 13,
     "metadata": {},
     "output_type": "execute_result"
    }
   ],
   "source": [
    "p_approval = pd.DataFrame(columns=['Race/Topic (Click to Sort)','Poll','Results','Spread', 'Date'])\n",
    "for element in range(len(approval)):\n",
    "    race = approval.iloc[element,:][\"Race/Topic (Click to Sort)\"]\n",
    "    z = re.match(r\".*President.*[Aa]pproval.*\", race)\n",
    "    if z:\n",
    "        p_approval = p_approval.append(approval.iloc[element,:], ignore_index = True)\n",
    "p_approval.head()"
   ]
  },
  {
   "cell_type": "code",
   "execution_count": null,
   "metadata": {
    "collapsed": true
   },
   "outputs": [],
   "source": [
    "p_approval"
   ]
  },
  {
   "cell_type": "code",
   "execution_count": 14,
   "metadata": {},
   "outputs": [
    {
     "data": {
      "text/html": [
       "<div>\n",
       "<style>\n",
       "    .dataframe thead tr:only-child th {\n",
       "        text-align: right;\n",
       "    }\n",
       "\n",
       "    .dataframe thead th {\n",
       "        text-align: left;\n",
       "    }\n",
       "\n",
       "    .dataframe tbody tr th {\n",
       "        vertical-align: top;\n",
       "    }\n",
       "</style>\n",
       "<table border=\"1\" class=\"dataframe\">\n",
       "  <thead>\n",
       "    <tr style=\"text-align: right;\">\n",
       "      <th></th>\n",
       "      <th>Race/Topic (Click to Sort)</th>\n",
       "      <th>Poll</th>\n",
       "      <th>Results</th>\n",
       "      <th>Spread</th>\n",
       "      <th>Date</th>\n",
       "      <th>Unnamed: 0</th>\n",
       "      <th>Year</th>\n",
       "    </tr>\n",
       "  </thead>\n",
       "  <tbody>\n",
       "    <tr>\n",
       "      <th>0</th>\n",
       "      <td>Congressional Job Approval</td>\n",
       "      <td>Quinnipiac</td>\n",
       "      <td>Approve 20, Disapprove 71</td>\n",
       "      <td>Disapprove +51</td>\n",
       "      <td>2010-04-21</td>\n",
       "      <td>0.0</td>\n",
       "      <td>2010.0</td>\n",
       "    </tr>\n",
       "    <tr>\n",
       "      <th>1</th>\n",
       "      <td>Congressional Job Approval</td>\n",
       "      <td>FOX News</td>\n",
       "      <td>Approve 22, Disapprove 68</td>\n",
       "      <td>Disapprove +46</td>\n",
       "      <td>2010-04-22</td>\n",
       "      <td>2.0</td>\n",
       "      <td>2010.0</td>\n",
       "    </tr>\n",
       "    <tr>\n",
       "      <th>2</th>\n",
       "      <td>Congressional Job Approval</td>\n",
       "      <td>NBC News/Wall St. Jrnl</td>\n",
       "      <td>Approve 21, Disapprove 72</td>\n",
       "      <td>Disapprove +51</td>\n",
       "      <td>2010-05-12</td>\n",
       "      <td>17.0</td>\n",
       "      <td>2010.0</td>\n",
       "    </tr>\n",
       "    <tr>\n",
       "      <th>3</th>\n",
       "      <td>Congressional Job Approval</td>\n",
       "      <td>Gallup</td>\n",
       "      <td>Approve 21, Disapprove 75</td>\n",
       "      <td>Disapprove +54</td>\n",
       "      <td>2010-05-14</td>\n",
       "      <td>18.0</td>\n",
       "      <td>2010.0</td>\n",
       "    </tr>\n",
       "    <tr>\n",
       "      <th>4</th>\n",
       "      <td>Congressional Job Approval</td>\n",
       "      <td>Associated Press/GfK</td>\n",
       "      <td>Approve 28, Disapprove 71</td>\n",
       "      <td>Disapprove +43</td>\n",
       "      <td>2010-05-15</td>\n",
       "      <td>19.0</td>\n",
       "      <td>2010.0</td>\n",
       "    </tr>\n",
       "  </tbody>\n",
       "</table>\n",
       "</div>"
      ],
      "text/plain": [
       "   Race/Topic (Click to Sort)                    Poll  \\\n",
       "0  Congressional Job Approval              Quinnipiac   \n",
       "1  Congressional Job Approval                FOX News   \n",
       "2  Congressional Job Approval  NBC News/Wall St. Jrnl   \n",
       "3  Congressional Job Approval                  Gallup   \n",
       "4  Congressional Job Approval    Associated Press/GfK   \n",
       "\n",
       "                     Results          Spread        Date  Unnamed: 0    Year  \n",
       "0  Approve 20, Disapprove 71  Disapprove +51  2010-04-21         0.0  2010.0  \n",
       "1  Approve 22, Disapprove 68  Disapprove +46  2010-04-22         2.0  2010.0  \n",
       "2  Approve 21, Disapprove 72  Disapprove +51  2010-05-12        17.0  2010.0  \n",
       "3  Approve 21, Disapprove 75  Disapprove +54  2010-05-14        18.0  2010.0  \n",
       "4  Approve 28, Disapprove 71  Disapprove +43  2010-05-15        19.0  2010.0  "
      ]
     },
     "execution_count": 14,
     "metadata": {},
     "output_type": "execute_result"
    }
   ],
   "source": [
    "c_approval = pd.DataFrame(columns=['Race/Topic (Click to Sort)','Poll','Results','Spread', 'Date'])\n",
    "for element in range(len(approval)):\n",
    "    race = approval.iloc[element,:][\"Race/Topic (Click to Sort)\"]\n",
    "    z = re.match(r\".*Congressional.*[Aa]pproval.*\", race)\n",
    "    if z:\n",
    "        c_approval = c_approval.append(approval.iloc[element,:], ignore_index = True)\n",
    "c_approval.head()"
   ]
  },
  {
   "cell_type": "code",
   "execution_count": 23,
   "metadata": {},
   "outputs": [
    {
     "data": {
      "text/plain": [
       "64"
      ]
     },
     "execution_count": 23,
     "metadata": {},
     "output_type": "execute_result"
    }
   ],
   "source": [
    "p_approval[\"Poll\"].unique()"
   ]
  },
  {
   "cell_type": "code",
   "execution_count": 19,
   "metadata": {},
   "outputs": [
    {
     "data": {
      "text/plain": [
       "datetime.date(2016, 9, 1)"
      ]
     },
     "execution_count": 19,
     "metadata": {},
     "output_type": "execute_result"
    }
   ],
   "source": [
    "datetime.date(2016,9,1)"
   ]
  },
  {
   "cell_type": "code",
   "execution_count": null,
   "metadata": {
    "collapsed": true
   },
   "outputs": [],
   "source": []
  }
 ],
 "metadata": {
  "kernelspec": {
   "display_name": "Python 3",
   "language": "python",
   "name": "python3"
  },
  "language_info": {
   "codemirror_mode": {
    "name": "ipython",
    "version": 3
   },
   "file_extension": ".py",
   "mimetype": "text/x-python",
   "name": "python",
   "nbconvert_exporter": "python",
   "pygments_lexer": "ipython3",
   "version": "3.6.3"
  }
 },
 "nbformat": 4,
 "nbformat_minor": 2
}
