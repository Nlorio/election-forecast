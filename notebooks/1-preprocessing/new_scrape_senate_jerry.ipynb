{
 "cells": [
  {
   "cell_type": "code",
   "execution_count": 4,
   "metadata": {
    "ExecuteTime": {
     "end_time": "2018-11-28T17:38:27.373522Z",
     "start_time": "2018-11-28T17:38:26.834933Z"
    }
   },
   "outputs": [],
   "source": [
    "import pandas as pd\n",
    "import bs4 as bs\n",
    "import requests\n",
    "import re\n",
    "import us\n",
    "\n",
    "STATES_DICT = us.states.mapping('name', 'abbr')\n",
    "PARTY_DICT = {'republican' : 'r', 'democratic' : 'd', 'independent': 'i'}"
   ]
  },
  {
   "cell_type": "markdown",
   "metadata": {},
   "source": [
    "# Senate Names\n",
    "\n",
    "### 2010, 2012, 2014, 2016, 2018"
   ]
  },
  {
   "cell_type": "code",
   "execution_count": 5,
   "metadata": {
    "ExecuteTime": {
     "end_time": "2018-11-28T17:38:31.157308Z",
     "start_time": "2018-11-28T17:38:31.150518Z"
    }
   },
   "outputs": [],
   "source": [
    "def scrape_senate_names(year):\n",
    "    \"\"\"Works for 2010, 2012, 2014, 2016, 2018.\"\"\"\n",
    "    RACE_TYPE = 'senate'\n",
    "    source = requests.get(f'https://en.wikipedia.org/wiki/{year}_United_States_Senate_elections')\n",
    "    soup = bs.BeautifulSoup(source.content, features='html.parser')\n",
    "    \n",
    "    names = []\n",
    "    parties = []\n",
    "    race_types = []\n",
    "    years = []\n",
    "    states = []\n",
    "    \n",
    "    # iterate through all tables with \"Candidates\"\n",
    "    for table in soup.find_all('table', class_=\"wikitable sortable\"):\n",
    "        if 'Candidates' not in [h.text.strip() for h in table.find_all('th', text=True)]:\n",
    "            continue\n",
    "        \n",
    "        for tr in table.find_all('tr')[2:]:\n",
    "            state = re.match(r\"([\\w\\s]+).*\", tr.find('td').text).groups()[0].strip()\n",
    "                \n",
    "            # find candidate names\n",
    "            candidates = tr.find_all('td')[-1]\n",
    "            candidates_text = re.findall(r\"\\w[\\s\\w ]+?\\(\\w+?\\)\", candidates.text)\n",
    "            for candidate in candidates_text:\n",
    "                matcher = re.match(r\"([\\w\\s]+)\\s\\((\\w+)\\)\", candidate.lower())\n",
    "                if matcher:\n",
    "                    name, party = matcher.groups()\n",
    "                    names.append(name)\n",
    "                    parties.append(party)\n",
    "                    race_types.append(RACE_TYPE)\n",
    "                    years.append(year)\n",
    "                    states.append(state)\n",
    "    \n",
    "    # return df\n",
    "    df = pd.DataFrame({'name': names, \n",
    "                       'party': parties,\n",
    "                       'race_type': race_types,\n",
    "                       'year': years,\n",
    "                       'state': states})\n",
    "    df['state'] = df['state'].map(STATES_DICT)\n",
    "    df['party'] = df['party'].map(PARTY_DICT)\n",
    "    df.loc[~df['party'].isin(['d', 'r']), 'party'] = 'o'\n",
    "    \n",
    "    return df"
   ]
  },
  {
   "cell_type": "code",
   "execution_count": 6,
   "metadata": {
    "ExecuteTime": {
     "end_time": "2018-11-28T17:38:45.846534Z",
     "start_time": "2018-11-28T17:38:42.312706Z"
    }
   },
   "outputs": [],
   "source": [
    "senate_names_2010 = scrape_senate_names(2010)\n",
    "senate_names_2012 = scrape_senate_names(2012)\n",
    "senate_names_2014 = scrape_senate_names(2014)\n",
    "senate_names_2016 = scrape_senate_names(2016)\n",
    "senate_names_2018 = scrape_senate_names(2018)"
   ]
  },
  {
   "cell_type": "code",
   "execution_count": 13,
   "metadata": {
    "ExecuteTime": {
     "end_time": "2018-11-28T17:38:45.875622Z",
     "start_time": "2018-11-28T17:38:45.848591Z"
    }
   },
   "outputs": [
    {
     "data": {
      "text/html": [
       "<div>\n",
       "<style scoped>\n",
       "    .dataframe tbody tr th:only-of-type {\n",
       "        vertical-align: middle;\n",
       "    }\n",
       "\n",
       "    .dataframe tbody tr th {\n",
       "        vertical-align: top;\n",
       "    }\n",
       "\n",
       "    .dataframe thead th {\n",
       "        text-align: right;\n",
       "    }\n",
       "</style>\n",
       "<table border=\"1\" class=\"dataframe\">\n",
       "  <thead>\n",
       "    <tr style=\"text-align: right;\">\n",
       "      <th></th>\n",
       "      <th>name</th>\n",
       "      <th>party</th>\n",
       "      <th>race_type</th>\n",
       "      <th>year</th>\n",
       "      <th>state</th>\n",
       "    </tr>\n",
       "  </thead>\n",
       "  <tbody>\n",
       "    <tr>\n",
       "      <th>0</th>\n",
       "      <td>richard shelby</td>\n",
       "      <td>r</td>\n",
       "      <td>senate</td>\n",
       "      <td>2016</td>\n",
       "      <td>AL</td>\n",
       "    </tr>\n",
       "    <tr>\n",
       "      <th>1</th>\n",
       "      <td>ron crumpton</td>\n",
       "      <td>d</td>\n",
       "      <td>senate</td>\n",
       "      <td>2016</td>\n",
       "      <td>AL</td>\n",
       "    </tr>\n",
       "    <tr>\n",
       "      <th>2</th>\n",
       "      <td>lisa murkowski</td>\n",
       "      <td>r</td>\n",
       "      <td>senate</td>\n",
       "      <td>2016</td>\n",
       "      <td>AK</td>\n",
       "    </tr>\n",
       "    <tr>\n",
       "      <th>3</th>\n",
       "      <td>joe miller</td>\n",
       "      <td>o</td>\n",
       "      <td>senate</td>\n",
       "      <td>2016</td>\n",
       "      <td>AK</td>\n",
       "    </tr>\n",
       "    <tr>\n",
       "      <th>4</th>\n",
       "      <td>margaret stock</td>\n",
       "      <td>o</td>\n",
       "      <td>senate</td>\n",
       "      <td>2016</td>\n",
       "      <td>AK</td>\n",
       "    </tr>\n",
       "  </tbody>\n",
       "</table>\n",
       "</div>"
      ],
      "text/plain": [
       "             name party race_type  year state\n",
       "0  richard shelby     r    senate  2016    AL\n",
       "1    ron crumpton     d    senate  2016    AL\n",
       "2  lisa murkowski     r    senate  2016    AK\n",
       "3      joe miller     o    senate  2016    AK\n",
       "4  margaret stock     o    senate  2016    AK"
      ]
     },
     "execution_count": 13,
     "metadata": {},
     "output_type": "execute_result"
    }
   ],
   "source": [
    "senate_names_2016.head()"
   ]
  },
  {
   "cell_type": "code",
   "execution_count": 15,
   "metadata": {},
   "outputs": [],
   "source": [
    "def scrape_senate_names(year):\n",
    "    \"\"\"Works for 2010, 2012, 2014, 2016, 2018.\"\"\"\n",
    "    RACE_TYPE = 'senate'\n",
    "    source = requests.get(f'https://en.wikipedia.org/wiki/{year}_United_States_Senate_elections')\n",
    "    soup = bs.BeautifulSoup(source.content, features='html.parser')\n",
    "    \n",
    "    names = []\n",
    "    parties = []\n",
    "    race_types = []\n",
    "    years = []\n",
    "    states = []\n",
    "    \n",
    "    # iterate through all tables with \"Candidates\"\n",
    "    for table in soup.find_all('table', class_=\"wikitable sortable\"):\n",
    "        if 'Candidates' not in [h.text.strip() for h in table.find_all('th', text=True)]:\n",
    "            print([h.text.strip() for h in table.find_all('th', text=True)])\n",
    "        \n",
    "scrape_senate_names(2010)    "
   ]
  },
  {
   "cell_type": "markdown",
   "metadata": {},
   "source": [
    "### Concatenate"
   ]
  },
  {
   "cell_type": "code",
   "execution_count": 10,
   "metadata": {
    "ExecuteTime": {
     "end_time": "2018-11-28T17:39:52.766938Z",
     "start_time": "2018-11-28T17:39:52.761834Z"
    }
   },
   "outputs": [],
   "source": [
    "senate_names = pd.concat([senate_names_2010, senate_names_2012, senate_names_2014, senate_names_2016, senate_names_2018])"
   ]
  },
  {
   "cell_type": "code",
   "execution_count": 11,
   "metadata": {
    "ExecuteTime": {
     "end_time": "2018-11-28T17:44:58.294879Z",
     "start_time": "2018-11-28T17:44:57.963245Z"
    }
   },
   "outputs": [
    {
     "data": {
      "text/html": [
       "<div>\n",
       "<style scoped>\n",
       "    .dataframe tbody tr th:only-of-type {\n",
       "        vertical-align: middle;\n",
       "    }\n",
       "\n",
       "    .dataframe tbody tr th {\n",
       "        vertical-align: top;\n",
       "    }\n",
       "\n",
       "    .dataframe thead th {\n",
       "        text-align: right;\n",
       "    }\n",
       "</style>\n",
       "<table border=\"1\" class=\"dataframe\">\n",
       "  <thead>\n",
       "    <tr style=\"text-align: right;\">\n",
       "      <th></th>\n",
       "      <th>name</th>\n",
       "      <th>party</th>\n",
       "      <th>race_type</th>\n",
       "      <th>year</th>\n",
       "      <th>state</th>\n",
       "    </tr>\n",
       "  </thead>\n",
       "  <tbody>\n",
       "    <tr>\n",
       "      <th>0</th>\n",
       "      <td>scott brown</td>\n",
       "      <td>r</td>\n",
       "      <td>senate</td>\n",
       "      <td>2010</td>\n",
       "      <td>MA</td>\n",
       "    </tr>\n",
       "    <tr>\n",
       "      <th>1</th>\n",
       "      <td>martha coakley</td>\n",
       "      <td>d</td>\n",
       "      <td>senate</td>\n",
       "      <td>2010</td>\n",
       "      <td>MA</td>\n",
       "    </tr>\n",
       "    <tr>\n",
       "      <th>2</th>\n",
       "      <td>kennedy</td>\n",
       "      <td>o</td>\n",
       "      <td>senate</td>\n",
       "      <td>2010</td>\n",
       "      <td>MA</td>\n",
       "    </tr>\n",
       "    <tr>\n",
       "      <th>3</th>\n",
       "      <td>chris coons</td>\n",
       "      <td>d</td>\n",
       "      <td>senate</td>\n",
       "      <td>2010</td>\n",
       "      <td>DE</td>\n",
       "    </tr>\n",
       "    <tr>\n",
       "      <th>4</th>\n",
       "      <td>donnell</td>\n",
       "      <td>r</td>\n",
       "      <td>senate</td>\n",
       "      <td>2010</td>\n",
       "      <td>DE</td>\n",
       "    </tr>\n",
       "  </tbody>\n",
       "</table>\n",
       "</div>"
      ],
      "text/plain": [
       "             name party race_type  year state\n",
       "0     scott brown     r    senate  2010    MA\n",
       "1  martha coakley     d    senate  2010    MA\n",
       "2         kennedy     o    senate  2010    MA\n",
       "3     chris coons     d    senate  2010    DE\n",
       "4         donnell     r    senate  2010    DE"
      ]
     },
     "execution_count": 11,
     "metadata": {},
     "output_type": "execute_result"
    }
   ],
   "source": [
    "senate_names.head()"
   ]
  },
  {
   "cell_type": "code",
   "execution_count": null,
   "metadata": {},
   "outputs": [],
   "source": []
  }
 ],
 "metadata": {
  "kernelspec": {
   "display_name": "Python 3",
   "language": "python",
   "name": "python3"
  },
  "language_info": {
   "codemirror_mode": {
    "name": "ipython",
    "version": 3
   },
   "file_extension": ".py",
   "mimetype": "text/x-python",
   "name": "python",
   "nbconvert_exporter": "python",
   "pygments_lexer": "ipython3",
   "version": "3.6.6"
  }
 },
 "nbformat": 4,
 "nbformat_minor": 2
}
