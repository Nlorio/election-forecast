{
 "cells": [
  {
   "cell_type": "code",
   "execution_count": 63,
   "metadata": {
    "ExecuteTime": {
     "end_time": "2018-11-27T21:50:14.733744Z",
     "start_time": "2018-11-27T21:50:14.730082Z"
    }
   },
   "outputs": [],
   "source": [
    "import pandas as pd\n",
    "import bs4 as bs\n",
    "import requests\n",
    "import re"
   ]
  },
  {
   "cell_type": "code",
   "execution_count": 3,
   "metadata": {
    "ExecuteTime": {
     "end_time": "2018-11-27T21:05:10.332487Z",
     "start_time": "2018-11-27T21:05:08.041641Z"
    }
   },
   "outputs": [],
   "source": [
    "source = requests.get('https://en.wikipedia.org/wiki/2016_United_States_House_of_Representatives_elections')\n",
    "soup = bs.BeautifulSoup(source.content, features='html.parser')"
   ]
  },
  {
   "cell_type": "code",
   "execution_count": 94,
   "metadata": {
    "ExecuteTime": {
     "end_time": "2018-11-27T22:01:08.682269Z",
     "start_time": "2018-11-27T22:01:08.385532Z"
    }
   },
   "outputs": [
    {
     "name": "stdout",
     "output_type": "stream",
     "text": [
      "['Bradley Byrne (Republican)']\n",
      "['Martha Roby (Republican)', 'Nathan Mathis (Democratic)']\n",
      "['Mike Rogers (Republican)', 'Jesse Smith (Democratic)']\n",
      "['Robert Aderholt (Republican)']\n",
      "['Mo Brooks (Republican)', 'Will Boyd (Democratic)']\n",
      "['Gary Palmer (Republican)', 'David Putman (Democratic)']\n",
      "['Terri Sewell (Democratic)']\n"
     ]
    }
   ],
   "source": [
    "parties = {}\n",
    "for table in soup.find_all('table', class_=\"wikitable sortable\"):\n",
    "    headers = table.find_all('th', text = True)\n",
    "    if 'Candidates' not in [h.text.strip() for h in headers]:\n",
    "        continue\n",
    "    for tr in table.find_all('tr')[2:]:\n",
    "        candidates = tr.find_all('td')[-1]\n",
    "#         print(candidates.prettify())\n",
    "#         print(candidates.text)\n",
    "        candidates_text = re.findall(r\"\\w[\\s\\w ]+?\\(\\w+?\\)\", candidates.text)\n",
    "        for candidate in candidates_text:\n",
    "            \n",
    "    break"
   ]
  },
  {
   "cell_type": "code",
   "execution_count": null,
   "metadata": {},
   "outputs": [],
   "source": []
  }
 ],
 "metadata": {
  "kernelspec": {
   "display_name": "Python 3",
   "language": "python",
   "name": "python3"
  },
  "language_info": {
   "codemirror_mode": {
    "name": "ipython",
    "version": 3
   },
   "file_extension": ".py",
   "mimetype": "text/x-python",
   "name": "python",
   "nbconvert_exporter": "python",
   "pygments_lexer": "ipython3",
   "version": "3.6.6"
  }
 },
 "nbformat": 4,
 "nbformat_minor": 2
}
