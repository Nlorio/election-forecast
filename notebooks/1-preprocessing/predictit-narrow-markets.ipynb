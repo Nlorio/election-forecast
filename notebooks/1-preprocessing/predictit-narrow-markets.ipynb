{
 "cells": [
  {
   "cell_type": "code",
   "execution_count": 1,
   "metadata": {
    "ExecuteTime": {
     "end_time": "2018-09-24T23:29:28.621390Z",
     "start_time": "2018-09-24T23:29:16.174204Z"
    }
   },
   "outputs": [],
   "source": [
    "import pandas as pd\n",
    "import numpy as np\n",
    "import matplotlib.pyplot as plt\n",
    "import seaborn as sns\n",
    "\n",
    "%matplotlib inline\n",
    "sns.set()\n",
    "pd.set_option('display.max_rows', 500)"
   ]
  },
  {
   "cell_type": "code",
   "execution_count": 2,
   "metadata": {
    "ExecuteTime": {
     "end_time": "2018-09-24T23:35:03.210451Z",
     "start_time": "2018-09-24T23:35:03.164334Z"
    }
   },
   "outputs": [
    {
     "name": "stdout",
     "output_type": "stream",
     "text": [
      "(2786, 5)\n"
     ]
    },
    {
     "data": {
      "text/html": [
       "<div>\n",
       "<style scoped>\n",
       "    .dataframe tbody tr th:only-of-type {\n",
       "        vertical-align: middle;\n",
       "    }\n",
       "\n",
       "    .dataframe tbody tr th {\n",
       "        vertical-align: top;\n",
       "    }\n",
       "\n",
       "    .dataframe thead th {\n",
       "        text-align: right;\n",
       "    }\n",
       "</style>\n",
       "<table border=\"1\" class=\"dataframe\">\n",
       "  <thead>\n",
       "    <tr style=\"text-align: right;\">\n",
       "      <th></th>\n",
       "      <th>ID</th>\n",
       "      <th>Market</th>\n",
       "      <th>Ticker</th>\n",
       "      <th>Start Date (ET)</th>\n",
       "      <th>Closed Date (ET)</th>\n",
       "    </tr>\n",
       "  </thead>\n",
       "  <tbody>\n",
       "    <tr>\n",
       "      <th>0</th>\n",
       "      <td>4586.0</td>\n",
       "      <td>How many tweets will @realDonaldTrump post fro...</td>\n",
       "      <td>RDTS.071118</td>\n",
       "      <td>7/4/2018 8:00:00 AM</td>\n",
       "      <td>7/11/2018 12:10:01 PM</td>\n",
       "    </tr>\n",
       "    <tr>\n",
       "      <th>1</th>\n",
       "      <td>3232.0</td>\n",
       "      <td>Who will be Trump's next Supreme Court nominee?</td>\n",
       "      <td>SCOTUS2.DJT</td>\n",
       "      <td>5/3/2017 8:00:00 PM</td>\n",
       "      <td>7/10/2018 12:40:07 PM</td>\n",
       "    </tr>\n",
       "    <tr>\n",
       "      <th>2</th>\n",
       "      <td>4571.0</td>\n",
       "      <td>Will Trump's next Supreme Court nominee be a w...</td>\n",
       "      <td>WOMAN.SCOTUS2.DJT</td>\n",
       "      <td>6/27/2018 8:00:00 PM</td>\n",
       "      <td>7/10/2018 12:36:52 PM</td>\n",
       "    </tr>\n",
       "    <tr>\n",
       "      <th>3</th>\n",
       "      <td>4605.0</td>\n",
       "      <td>Will @realDonaldTrump or @potus tweet \"Barrett...</td>\n",
       "      <td>BARR.TRUMPTWEET.070918</td>\n",
       "      <td>7/8/2018 8:00:00 PM</td>\n",
       "      <td>7/10/2018 8:43:43 AM</td>\n",
       "    </tr>\n",
       "    <tr>\n",
       "      <th>4</th>\n",
       "      <td>4604.0</td>\n",
       "      <td>Will @realDonaldTrump or @potus tweet \"Hardima...</td>\n",
       "      <td>HARD.TRUMPTWEET.070918</td>\n",
       "      <td>7/8/2018 8:00:00 PM</td>\n",
       "      <td>7/10/2018 8:42:42 AM</td>\n",
       "    </tr>\n",
       "  </tbody>\n",
       "</table>\n",
       "</div>"
      ],
      "text/plain": [
       "       ID                                             Market  \\\n",
       "0  4586.0  How many tweets will @realDonaldTrump post fro...   \n",
       "1  3232.0    Who will be Trump's next Supreme Court nominee?   \n",
       "2  4571.0  Will Trump's next Supreme Court nominee be a w...   \n",
       "3  4605.0  Will @realDonaldTrump or @potus tweet \"Barrett...   \n",
       "4  4604.0  Will @realDonaldTrump or @potus tweet \"Hardima...   \n",
       "\n",
       "                   Ticker       Start Date (ET)       Closed Date (ET)  \n",
       "0             RDTS.071118   7/4/2018 8:00:00 AM  7/11/2018 12:10:01 PM  \n",
       "1             SCOTUS2.DJT   5/3/2017 8:00:00 PM  7/10/2018 12:40:07 PM  \n",
       "2       WOMAN.SCOTUS2.DJT  6/27/2018 8:00:00 PM  7/10/2018 12:36:52 PM  \n",
       "3  BARR.TRUMPTWEET.070918   7/8/2018 8:00:00 PM   7/10/2018 8:43:43 AM  \n",
       "4  HARD.TRUMPTWEET.070918   7/8/2018 8:00:00 PM   7/10/2018 8:42:42 AM  "
      ]
     },
     "execution_count": 2,
     "metadata": {},
     "output_type": "execute_result"
    }
   ],
   "source": [
    "markets = pd.read_csv('../data/cleaned/PI Closed Markets List - desired as csv.csv')\n",
    "print(markets.shape)\n",
    "markets.head()"
   ]
  },
  {
   "cell_type": "code",
   "execution_count": 3,
   "metadata": {
    "ExecuteTime": {
     "end_time": "2018-09-24T23:35:20.726243Z",
     "start_time": "2018-09-24T23:35:20.719002Z"
    }
   },
   "outputs": [
    {
     "data": {
      "text/plain": [
       "ID                  1\n",
       "Market              1\n",
       "Ticker              1\n",
       "Start Date (ET)     1\n",
       "Closed Date (ET)    1\n",
       "dtype: int64"
      ]
     },
     "execution_count": 3,
     "metadata": {},
     "output_type": "execute_result"
    }
   ],
   "source": [
    "markets.isnull().sum()"
   ]
  },
  {
   "cell_type": "code",
   "execution_count": 4,
   "metadata": {
    "ExecuteTime": {
     "end_time": "2018-09-24T23:35:11.620298Z",
     "start_time": "2018-09-24T23:35:11.605788Z"
    }
   },
   "outputs": [
    {
     "data": {
      "text/html": [
       "<div>\n",
       "<style scoped>\n",
       "    .dataframe tbody tr th:only-of-type {\n",
       "        vertical-align: middle;\n",
       "    }\n",
       "\n",
       "    .dataframe tbody tr th {\n",
       "        vertical-align: top;\n",
       "    }\n",
       "\n",
       "    .dataframe thead th {\n",
       "        text-align: right;\n",
       "    }\n",
       "</style>\n",
       "<table border=\"1\" class=\"dataframe\">\n",
       "  <thead>\n",
       "    <tr style=\"text-align: right;\">\n",
       "      <th></th>\n",
       "      <th>ID</th>\n",
       "      <th>Market</th>\n",
       "      <th>Ticker</th>\n",
       "      <th>Start Date (ET)</th>\n",
       "      <th>Closed Date (ET)</th>\n",
       "    </tr>\n",
       "  </thead>\n",
       "  <tbody>\n",
       "    <tr>\n",
       "      <th>2785</th>\n",
       "      <td>NaN</td>\n",
       "      <td>NaN</td>\n",
       "      <td>NaN</td>\n",
       "      <td>NaN</td>\n",
       "      <td>NaN</td>\n",
       "    </tr>\n",
       "  </tbody>\n",
       "</table>\n",
       "</div>"
      ],
      "text/plain": [
       "      ID Market Ticker Start Date (ET) Closed Date (ET)\n",
       "2785 NaN    NaN    NaN             NaN              NaN"
      ]
     },
     "execution_count": 4,
     "metadata": {},
     "output_type": "execute_result"
    }
   ],
   "source": [
    "markets[markets.isnull().any(axis=1)]"
   ]
  },
  {
   "cell_type": "code",
   "execution_count": 5,
   "metadata": {
    "ExecuteTime": {
     "end_time": "2018-09-24T23:35:25.994756Z",
     "start_time": "2018-09-24T23:35:25.988018Z"
    }
   },
   "outputs": [],
   "source": [
    "markets = markets.dropna()"
   ]
  },
  {
   "cell_type": "code",
   "execution_count": 7,
   "metadata": {
    "ExecuteTime": {
     "end_time": "2018-09-24T23:39:59.498749Z",
     "start_time": "2018-09-24T23:39:59.487746Z"
    }
   },
   "outputs": [],
   "source": [
    "elections = markets[(markets['Market'].str.contains('elect')) & (~markets['Market'].str.contains('turnout')) & (~markets['Market'].str.contains('margin'))]"
   ]
  },
  {
   "cell_type": "code",
   "execution_count": 8,
   "metadata": {
    "ExecuteTime": {
     "end_time": "2018-09-24T23:40:02.490208Z",
     "start_time": "2018-09-24T23:40:02.485786Z"
    }
   },
   "outputs": [
    {
     "data": {
      "text/plain": [
       "(211, 5)"
      ]
     },
     "execution_count": 8,
     "metadata": {},
     "output_type": "execute_result"
    }
   ],
   "source": [
    "elections.shape"
   ]
  },
  {
   "cell_type": "code",
   "execution_count": 9,
   "metadata": {
    "ExecuteTime": {
     "end_time": "2018-09-24T23:40:00.046174Z",
     "start_time": "2018-09-24T23:40:00.024283Z"
    },
    "scrolled": false
   },
   "outputs": [],
   "source": [
    "# elections.to_csv('../data/cleaned/elections.csv')"
   ]
  },
  {
   "cell_type": "code",
   "execution_count": null,
   "metadata": {},
   "outputs": [],
   "source": []
  },
  {
   "cell_type": "code",
   "execution_count": 10,
   "metadata": {},
   "outputs": [
    {
     "data": {
      "text/plain": [
       "array([\"How many counties will Moore win in Alabama's special Senate election?\",\n",
       "       'Which write-in candidate received the most votes in the 2017 U.S. Senate special election in Alabama?',\n",
       "       'Which party will win the 2017 U.S. Senate special election in Alabama?',\n",
       "       \"What will the margin of victory be in Alabama's special Senate election?\",\n",
       "       'Who will win the 2017 U.S. Senate special election in Alabama?',\n",
       "       \"Will Moore win Madison County in Alabama's special Senate election?\",\n",
       "       \"Will Moore win Mobile County in Alabama's special Senate election?\",\n",
       "       'What will total write-in vote share be for the 2017 U.S. Senate special election in Alabama?',\n",
       "       \"Will Moore win Montgomery County in Alabama's special Senate election?\",\n",
       "       \"Will Moore win Jefferson County in Alabama's special Senate election?\",\n",
       "       \"Who will win the Republican primary in Alabama's 2017 special Senate election?\",\n",
       "       'Will the Democratic primary for 2017 U.S. Senate special election in Alabama go to a runoff?',\n",
       "       'Will the GOP primary for 2017 U.S. Senate special election in Alabama go to a runoff?',\n",
       "       \"Who will win the Democratic primary in Alabama's 2017 special Senate election?\",\n",
       "       'Which party will win Alabama in the 2016 presidential election?'],\n",
       "      dtype=object)"
      ]
     },
     "execution_count": 10,
     "metadata": {},
     "output_type": "execute_result"
    }
   ],
   "source": [
    "elections[elections['Market'].str.contains(\"Alabama\")]['Market'].values"
   ]
  },
  {
   "cell_type": "code",
   "execution_count": null,
   "metadata": {},
   "outputs": [],
   "source": []
  },
  {
   "cell_type": "code",
   "execution_count": null,
   "metadata": {},
   "outputs": [],
   "source": []
  }
 ],
 "metadata": {
  "kernelspec": {
   "display_name": "Python 3",
   "language": "python",
   "name": "python3"
  },
  "language_info": {
   "codemirror_mode": {
    "name": "ipython",
    "version": 3
   },
   "file_extension": ".py",
   "mimetype": "text/x-python",
   "name": "python",
   "nbconvert_exporter": "python",
   "pygments_lexer": "ipython3",
   "version": "3.6.5"
  }
 },
 "nbformat": 4,
 "nbformat_minor": 2
}
