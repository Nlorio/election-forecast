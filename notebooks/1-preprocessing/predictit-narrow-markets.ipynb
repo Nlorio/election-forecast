{
 "cells": [
  {
   "cell_type": "code",
   "execution_count": 1,
   "metadata": {
    "ExecuteTime": {
     "end_time": "2018-10-29T19:57:06.739177Z",
     "start_time": "2018-10-29T19:57:04.983606Z"
    }
   },
   "outputs": [],
   "source": [
    "import pandas as pd\n",
    "import numpy as np\n",
    "import matplotlib.pyplot as plt\n",
    "import seaborn as sns\n",
    "\n",
    "%matplotlib inline\n",
    "sns.set()\n",
    "pd.set_option('display.max_rows', 500)"
   ]
  },
  {
   "cell_type": "markdown",
   "metadata": {},
   "source": [
    "# Reading data"
   ]
  },
  {
   "cell_type": "code",
   "execution_count": 2,
   "metadata": {
    "ExecuteTime": {
     "end_time": "2018-10-29T19:57:07.054043Z",
     "start_time": "2018-10-29T19:57:06.742440Z"
    }
   },
   "outputs": [
    {
     "name": "stdout",
     "output_type": "stream",
     "text": [
      "['Closed Markets']\n"
     ]
    }
   ],
   "source": [
    "# List all sheet names\n",
    "markets_list = pd.ExcelFile('../../data/raw/predictit-closed-markets-list.xlsx')\n",
    "print(markets_list.sheet_names)"
   ]
  },
  {
   "cell_type": "code",
   "execution_count": 3,
   "metadata": {
    "ExecuteTime": {
     "end_time": "2018-10-29T19:57:07.510683Z",
     "start_time": "2018-10-29T19:57:07.057215Z"
    }
   },
   "outputs": [
    {
     "name": "stdout",
     "output_type": "stream",
     "text": [
      "(2786, 6)\n"
     ]
    },
    {
     "data": {
      "text/html": [
       "<div>\n",
       "<style scoped>\n",
       "    .dataframe tbody tr th:only-of-type {\n",
       "        vertical-align: middle;\n",
       "    }\n",
       "\n",
       "    .dataframe tbody tr th {\n",
       "        vertical-align: top;\n",
       "    }\n",
       "\n",
       "    .dataframe thead th {\n",
       "        text-align: right;\n",
       "    }\n",
       "</style>\n",
       "<table border=\"1\" class=\"dataframe\">\n",
       "  <thead>\n",
       "    <tr style=\"text-align: right;\">\n",
       "      <th></th>\n",
       "      <th>Closed Markets</th>\n",
       "      <th>Unnamed: 1</th>\n",
       "      <th>Unnamed: 2</th>\n",
       "      <th>Unnamed: 3</th>\n",
       "      <th>Unnamed: 4</th>\n",
       "      <th>Unnamed: 5</th>\n",
       "    </tr>\n",
       "  </thead>\n",
       "  <tbody>\n",
       "    <tr>\n",
       "      <th>0</th>\n",
       "      <td>ID</td>\n",
       "      <td>Market</td>\n",
       "      <td>NaN</td>\n",
       "      <td>Ticker</td>\n",
       "      <td>Start Date (ET)</td>\n",
       "      <td>Closed Date (ET)</td>\n",
       "    </tr>\n",
       "    <tr>\n",
       "      <th>1</th>\n",
       "      <td>4586</td>\n",
       "      <td>How many tweets will @realDonaldTrump post fro...</td>\n",
       "      <td>NaN</td>\n",
       "      <td>RDTS.071118</td>\n",
       "      <td>2018-07-04 08:00:00</td>\n",
       "      <td>2018-07-11 12:10:00.617000</td>\n",
       "    </tr>\n",
       "    <tr>\n",
       "      <th>2</th>\n",
       "      <td>3232</td>\n",
       "      <td>Who will be Trump's next Supreme Court nominee?</td>\n",
       "      <td>NaN</td>\n",
       "      <td>SCOTUS2.DJT</td>\n",
       "      <td>2017-05-03 20:00:00</td>\n",
       "      <td>2018-07-10 12:40:07.293000</td>\n",
       "    </tr>\n",
       "    <tr>\n",
       "      <th>3</th>\n",
       "      <td>4571</td>\n",
       "      <td>Will Trump's next Supreme Court nominee be a w...</td>\n",
       "      <td>NaN</td>\n",
       "      <td>WOMAN.SCOTUS2.DJT</td>\n",
       "      <td>2018-06-27 20:00:00</td>\n",
       "      <td>2018-07-10 12:36:52.197000</td>\n",
       "    </tr>\n",
       "    <tr>\n",
       "      <th>4</th>\n",
       "      <td>4605</td>\n",
       "      <td>Will @realDonaldTrump or @potus tweet \"Barrett...</td>\n",
       "      <td>NaN</td>\n",
       "      <td>BARR.TRUMPTWEET.070918</td>\n",
       "      <td>2018-07-08 20:00:00</td>\n",
       "      <td>2018-07-10 08:43:42.783000</td>\n",
       "    </tr>\n",
       "  </tbody>\n",
       "</table>\n",
       "</div>"
      ],
      "text/plain": [
       "  Closed Markets                                         Unnamed: 1  \\\n",
       "0             ID                                             Market   \n",
       "1           4586  How many tweets will @realDonaldTrump post fro...   \n",
       "2           3232    Who will be Trump's next Supreme Court nominee?   \n",
       "3           4571  Will Trump's next Supreme Court nominee be a w...   \n",
       "4           4605  Will @realDonaldTrump or @potus tweet \"Barrett...   \n",
       "\n",
       "   Unnamed: 2              Unnamed: 3           Unnamed: 4  \\\n",
       "0         NaN                  Ticker      Start Date (ET)   \n",
       "1         NaN             RDTS.071118  2018-07-04 08:00:00   \n",
       "2         NaN             SCOTUS2.DJT  2017-05-03 20:00:00   \n",
       "3         NaN       WOMAN.SCOTUS2.DJT  2018-06-27 20:00:00   \n",
       "4         NaN  BARR.TRUMPTWEET.070918  2018-07-08 20:00:00   \n",
       "\n",
       "                   Unnamed: 5  \n",
       "0            Closed Date (ET)  \n",
       "1  2018-07-11 12:10:00.617000  \n",
       "2  2018-07-10 12:40:07.293000  \n",
       "3  2018-07-10 12:36:52.197000  \n",
       "4  2018-07-10 08:43:42.783000  "
      ]
     },
     "execution_count": 3,
     "metadata": {},
     "output_type": "execute_result"
    }
   ],
   "source": [
    "# Read in sheet of closed markets\n",
    "markets = markets_list.parse('Closed Markets')\n",
    "print(markets.shape)\n",
    "markets.head()"
   ]
  },
  {
   "cell_type": "code",
   "execution_count": 4,
   "metadata": {
    "ExecuteTime": {
     "end_time": "2018-10-29T19:57:07.527173Z",
     "start_time": "2018-10-29T19:57:07.518142Z"
    }
   },
   "outputs": [
    {
     "data": {
      "text/plain": [
       "0"
      ]
     },
     "execution_count": 4,
     "metadata": {},
     "output_type": "execute_result"
    }
   ],
   "source": [
    "# How many rows are not null in \"Unnamed: 2\"?\n",
    "sum(~markets['Unnamed: 2'].isnull())"
   ]
  },
  {
   "cell_type": "code",
   "execution_count": 5,
   "metadata": {
    "ExecuteTime": {
     "end_time": "2018-10-29T19:57:07.584088Z",
     "start_time": "2018-10-29T19:57:07.534178Z"
    }
   },
   "outputs": [],
   "source": [
    "assert all(markets['Closed Markets'].value_counts() == 1)"
   ]
  },
  {
   "cell_type": "markdown",
   "metadata": {},
   "source": [
    "Note:\n",
    "- Header is in Row 1\n",
    "- Column 2 is all null values\n",
    "- ID column is all unique"
   ]
  },
  {
   "cell_type": "code",
   "execution_count": 6,
   "metadata": {
    "ExecuteTime": {
     "end_time": "2018-10-29T19:57:07.801674Z",
     "start_time": "2018-10-29T19:57:07.593874Z"
    }
   },
   "outputs": [
    {
     "name": "stdout",
     "output_type": "stream",
     "text": [
      "(2785, 4)\n"
     ]
    },
    {
     "data": {
      "text/html": [
       "<div>\n",
       "<style scoped>\n",
       "    .dataframe tbody tr th:only-of-type {\n",
       "        vertical-align: middle;\n",
       "    }\n",
       "\n",
       "    .dataframe tbody tr th {\n",
       "        vertical-align: top;\n",
       "    }\n",
       "\n",
       "    .dataframe thead th {\n",
       "        text-align: right;\n",
       "    }\n",
       "</style>\n",
       "<table border=\"1\" class=\"dataframe\">\n",
       "  <thead>\n",
       "    <tr style=\"text-align: right;\">\n",
       "      <th></th>\n",
       "      <th>Market</th>\n",
       "      <th>Ticker</th>\n",
       "      <th>Start Date (ET)</th>\n",
       "      <th>Closed Date (ET)</th>\n",
       "    </tr>\n",
       "    <tr>\n",
       "      <th>ID</th>\n",
       "      <th></th>\n",
       "      <th></th>\n",
       "      <th></th>\n",
       "      <th></th>\n",
       "    </tr>\n",
       "  </thead>\n",
       "  <tbody>\n",
       "    <tr>\n",
       "      <th>4586</th>\n",
       "      <td>How many tweets will @realDonaldTrump post fro...</td>\n",
       "      <td>RDTS.071118</td>\n",
       "      <td>2018-07-04 08:00:00</td>\n",
       "      <td>2018-07-11 12:10:00.617</td>\n",
       "    </tr>\n",
       "    <tr>\n",
       "      <th>3232</th>\n",
       "      <td>Who will be Trump's next Supreme Court nominee?</td>\n",
       "      <td>SCOTUS2.DJT</td>\n",
       "      <td>2017-05-03 20:00:00</td>\n",
       "      <td>2018-07-10 12:40:07.293</td>\n",
       "    </tr>\n",
       "    <tr>\n",
       "      <th>4571</th>\n",
       "      <td>Will Trump's next Supreme Court nominee be a w...</td>\n",
       "      <td>WOMAN.SCOTUS2.DJT</td>\n",
       "      <td>2018-06-27 20:00:00</td>\n",
       "      <td>2018-07-10 12:36:52.197</td>\n",
       "    </tr>\n",
       "    <tr>\n",
       "      <th>4605</th>\n",
       "      <td>Will @realDonaldTrump or @potus tweet \"Barrett...</td>\n",
       "      <td>BARR.TRUMPTWEET.070918</td>\n",
       "      <td>2018-07-08 20:00:00</td>\n",
       "      <td>2018-07-10 08:43:42.783</td>\n",
       "    </tr>\n",
       "    <tr>\n",
       "      <th>4604</th>\n",
       "      <td>Will @realDonaldTrump or @potus tweet \"Hardima...</td>\n",
       "      <td>HARD.TRUMPTWEET.070918</td>\n",
       "      <td>2018-07-08 20:00:00</td>\n",
       "      <td>2018-07-10 08:42:42.360</td>\n",
       "    </tr>\n",
       "  </tbody>\n",
       "</table>\n",
       "</div>"
      ],
      "text/plain": [
       "                                                 Market  \\\n",
       "ID                                                        \n",
       "4586  How many tweets will @realDonaldTrump post fro...   \n",
       "3232    Who will be Trump's next Supreme Court nominee?   \n",
       "4571  Will Trump's next Supreme Court nominee be a w...   \n",
       "4605  Will @realDonaldTrump or @potus tweet \"Barrett...   \n",
       "4604  Will @realDonaldTrump or @potus tweet \"Hardima...   \n",
       "\n",
       "                      Ticker     Start Date (ET)        Closed Date (ET)  \n",
       "ID                                                                        \n",
       "4586             RDTS.071118 2018-07-04 08:00:00 2018-07-11 12:10:00.617  \n",
       "3232             SCOTUS2.DJT 2017-05-03 20:00:00 2018-07-10 12:40:07.293  \n",
       "4571       WOMAN.SCOTUS2.DJT 2018-06-27 20:00:00 2018-07-10 12:36:52.197  \n",
       "4605  BARR.TRUMPTWEET.070918 2018-07-08 20:00:00 2018-07-10 08:43:42.783  \n",
       "4604  HARD.TRUMPTWEET.070918 2018-07-08 20:00:00 2018-07-10 08:42:42.360  "
      ]
     },
     "execution_count": 6,
     "metadata": {},
     "output_type": "execute_result"
    }
   ],
   "source": [
    "# Re-reading data\n",
    "markets = markets_list.parse('Closed Markets', header=1, index_col='ID')\n",
    "markets = markets.drop(columns=['Unnamed: 2'])\n",
    "print(markets.shape)\n",
    "markets.head()"
   ]
  },
  {
   "cell_type": "code",
   "execution_count": 7,
   "metadata": {
    "ExecuteTime": {
     "end_time": "2018-10-29T19:57:07.814623Z",
     "start_time": "2018-10-29T19:57:07.804061Z"
    }
   },
   "outputs": [
    {
     "data": {
      "text/plain": [
       "Market              0\n",
       "Ticker              0\n",
       "Start Date (ET)     0\n",
       "Closed Date (ET)    0\n",
       "dtype: int64"
      ]
     },
     "execution_count": 7,
     "metadata": {},
     "output_type": "execute_result"
    }
   ],
   "source": [
    "# Any missing data?\n",
    "markets.isnull().sum()"
   ]
  },
  {
   "cell_type": "code",
   "execution_count": 8,
   "metadata": {
    "ExecuteTime": {
     "end_time": "2018-10-29T19:57:07.880834Z",
     "start_time": "2018-10-29T19:57:07.818233Z"
    }
   },
   "outputs": [
    {
     "data": {
      "text/html": [
       "<div>\n",
       "<style scoped>\n",
       "    .dataframe tbody tr th:only-of-type {\n",
       "        vertical-align: middle;\n",
       "    }\n",
       "\n",
       "    .dataframe tbody tr th {\n",
       "        vertical-align: top;\n",
       "    }\n",
       "\n",
       "    .dataframe thead th {\n",
       "        text-align: right;\n",
       "    }\n",
       "</style>\n",
       "<table border=\"1\" class=\"dataframe\">\n",
       "  <thead>\n",
       "    <tr style=\"text-align: right;\">\n",
       "      <th></th>\n",
       "      <th>Market</th>\n",
       "      <th>Ticker</th>\n",
       "      <th>Start Date (ET)</th>\n",
       "      <th>Closed Date (ET)</th>\n",
       "    </tr>\n",
       "    <tr>\n",
       "      <th>ID</th>\n",
       "      <th></th>\n",
       "      <th></th>\n",
       "      <th></th>\n",
       "      <th></th>\n",
       "    </tr>\n",
       "  </thead>\n",
       "  <tbody>\n",
       "    <tr>\n",
       "      <th>4558</th>\n",
       "      <td>Who will place 2nd in the 2018 Mexican preside...</td>\n",
       "      <td>2ND.MEX.2018</td>\n",
       "      <td>2018-06-25 20:00:00</td>\n",
       "      <td>2018-07-02 11:51:16.383</td>\n",
       "    </tr>\n",
       "    <tr>\n",
       "      <th>3894</th>\n",
       "      <td>Who will be elected president of Mexico in 2018?</td>\n",
       "      <td>MEX.2018</td>\n",
       "      <td>2017-11-16 19:00:00</td>\n",
       "      <td>2018-07-02 11:50:15.087</td>\n",
       "    </tr>\n",
       "    <tr>\n",
       "      <th>4546</th>\n",
       "      <td>Will People's Alliance win a majority in Turki...</td>\n",
       "      <td>PA.TURKEY2018</td>\n",
       "      <td>2018-06-21 20:00:00</td>\n",
       "      <td>2018-06-30 08:14:53.873</td>\n",
       "    </tr>\n",
       "    <tr>\n",
       "      <th>4545</th>\n",
       "      <td>Will Erdoğan win outright majority in 1st roun...</td>\n",
       "      <td>MAJ.TURKEY2018</td>\n",
       "      <td>2018-06-21 20:00:00</td>\n",
       "      <td>2018-06-26 10:51:46.790</td>\n",
       "    </tr>\n",
       "    <tr>\n",
       "      <th>4182</th>\n",
       "      <td>Who will be elected president of Colombia in 2...</td>\n",
       "      <td>COLOMBIA.2018</td>\n",
       "      <td>2018-02-28 19:00:00</td>\n",
       "      <td>2018-06-19 16:24:51.793</td>\n",
       "    </tr>\n",
       "  </tbody>\n",
       "</table>\n",
       "</div>"
      ],
      "text/plain": [
       "                                                 Market          Ticker  \\\n",
       "ID                                                                        \n",
       "4558  Who will place 2nd in the 2018 Mexican preside...    2ND.MEX.2018   \n",
       "3894   Who will be elected president of Mexico in 2018?        MEX.2018   \n",
       "4546  Will People's Alliance win a majority in Turki...   PA.TURKEY2018   \n",
       "4545  Will Erdoğan win outright majority in 1st roun...  MAJ.TURKEY2018   \n",
       "4182  Who will be elected president of Colombia in 2...   COLOMBIA.2018   \n",
       "\n",
       "         Start Date (ET)        Closed Date (ET)  \n",
       "ID                                                \n",
       "4558 2018-06-25 20:00:00 2018-07-02 11:51:16.383  \n",
       "3894 2017-11-16 19:00:00 2018-07-02 11:50:15.087  \n",
       "4546 2018-06-21 20:00:00 2018-06-30 08:14:53.873  \n",
       "4545 2018-06-21 20:00:00 2018-06-26 10:51:46.790  \n",
       "4182 2018-02-28 19:00:00 2018-06-19 16:24:51.793  "
      ]
     },
     "execution_count": 8,
     "metadata": {},
     "output_type": "execute_result"
    }
   ],
   "source": [
    "elections = markets[(markets['Market'].str.contains('elect')) & (~markets['Market'].str.contains('turnout')) & (~markets['Market'].str.contains('margin'))]\n",
    "elections.head()"
   ]
  },
  {
   "cell_type": "code",
   "execution_count": 9,
   "metadata": {
    "ExecuteTime": {
     "end_time": "2018-10-29T19:57:07.916903Z",
     "start_time": "2018-10-29T19:57:07.885252Z"
    }
   },
   "outputs": [
    {
     "data": {
      "text/plain": [
       "(211, 4)"
      ]
     },
     "execution_count": 9,
     "metadata": {},
     "output_type": "execute_result"
    }
   ],
   "source": [
    "elections.shape"
   ]
  },
  {
   "cell_type": "code",
   "execution_count": 10,
   "metadata": {
    "ExecuteTime": {
     "end_time": "2018-10-29T19:57:07.985971Z",
     "start_time": "2018-10-29T19:57:07.921665Z"
    },
    "scrolled": false
   },
   "outputs": [],
   "source": [
    "elections.to_csv('../../data/cleaned/predictit-closed-markets-list.csv')"
   ]
  },
  {
   "cell_type": "markdown",
   "metadata": {},
   "source": [
    "From here, we manually removed non-US elections. The final results are at `../../data/cleaned/predictit-closed-markets-list-usa-only.csv`."
   ]
  }
 ],
 "metadata": {
  "kernelspec": {
   "display_name": "Python 3",
   "language": "python",
   "name": "python3"
  },
  "language_info": {
   "codemirror_mode": {
    "name": "ipython",
    "version": 3
   },
   "file_extension": ".py",
   "mimetype": "text/x-python",
   "name": "python",
   "nbconvert_exporter": "python",
   "pygments_lexer": "ipython3",
   "version": "3.6.6"
  }
 },
 "nbformat": 4,
 "nbformat_minor": 2
}
