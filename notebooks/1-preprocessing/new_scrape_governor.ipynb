{
 "cells": [
  {
   "cell_type": "code",
   "execution_count": null,
   "metadata": {},
   "outputs": [],
   "source": [
    "import pandas as pd\n",
    "import bs4 as bs\n",
    "import requests\n",
    "import re\n",
    "import us\n",
    "\n",
    "STATES_DICT = us.states.mapping('name', 'abbr')\n",
    "PARTY_DICT = {'republican' : 'r', 'democratic' : 'd', 'independent': 'i'}"
   ]
  },
  {
   "cell_type": "markdown",
   "metadata": {},
   "source": [
    "# Governor\n",
    "\n",
    "### Governor 2010-2013"
   ]
  },
  {
   "cell_type": "code",
   "execution_count": null,
   "metadata": {},
   "outputs": [],
   "source": [
    "def scrape_governor_names_(year):\n",
    "    RACE_TYPE = 'governor'\n",
    "    source = requests.get(f'https://en.wikipedia.org/wiki/United_States_gubernatorial_elections,_{year}')\n",
    "    soup = bs.BeautifulSoup(source.content, features='html.parser')\n",
    "    \n",
    "    names = []\n",
    "    parties = []\n",
    "    race_types = []\n",
    "    years = []\n",
    "    states = []\n",
    "    \n",
    "    for table in soup.find_all('table', class_=\"wikitable sortable\"):\n",
    "        if all(['candidates' not in h.text.strip().lower() for h in table.find_all('th', text=True)]):\n",
    "            continue\n",
    "            \n",
    "        for tr in table.find_all('tr')[1:]:\n",
    "            cells = tr.find_all('td')\n",
    "            state = cells[0].text.strip()\n",
    "            \n",
    "            # incumbent\n",
    "            incumbent_name = cells[1].text.lower().strip()\n",
    "            incumbent_name = \n",
    "            incumbent_party = cells[2].text.lower().strip()\n",
    "            names.append(incumbent_name)\n",
    "            parties.append(PARTY_DICT[incumbent_party.lower()] if incumbent_party.lower() in PARTY_DICT.keys() else incumbent_party.lower())\n",
    "            race_types.append(RACE_TYPE)\n",
    "            years.append(year)\n",
    "            states.append(state)\n",
    "            \n",
    "            # competitors\n",
    "            candidates = cells[-1]\n",
    "            candidates_text = re.findall(r\"\\w[\\s\\w ]+?\\(\\w+?\\)\", candidates.text)\n",
    "            for candidate in candidates_text:\n",
    "                matcher = re.match(r\"([\\w\\s]+)\\s\\((\\w+)\\)\", candidate.lower())\n",
    "                if matcher:\n",
    "                    name, party = matcher.groups()\n",
    "                    names.append(name.strip())\n",
    "                    parties.append(party)\n",
    "                    race_types.append(RACE_TYPE)\n",
    "                    years.append(year)\n",
    "                    states.append(state)\n",
    "\n",
    "    # return df\n",
    "    df = pd.DataFrame({'name': names, \n",
    "                       'party': parties,\n",
    "                       'race_type': race_types,\n",
    "                       'year': years,\n",
    "                       'state': states})\n",
    "    df['state'] = df['state'].map(STATES_DICT)\n",
    "#     df['party'] = df['party'].map(PARTY_DICT)\n",
    "    df.loc[~df['party'].isin(['d', 'r']), 'party'] = 'o'\n",
    "    \n",
    "    return df"
   ]
  }
 ],
 "metadata": {
  "kernelspec": {
   "display_name": "Python 3",
   "language": "python",
   "name": "python3"
  },
  "language_info": {
   "codemirror_mode": {
    "name": "ipython",
    "version": 3
   },
   "file_extension": ".py",
   "mimetype": "text/x-python",
   "name": "python",
   "nbconvert_exporter": "python",
   "pygments_lexer": "ipython3",
   "version": "3.6.6"
  }
 },
 "nbformat": 4,
 "nbformat_minor": 2
}
