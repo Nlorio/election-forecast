{
 "cells": [
  {
   "cell_type": "code",
   "execution_count": 1,
   "metadata": {
    "ExecuteTime": {
     "end_time": "2018-11-27T03:55:40.853886Z",
     "start_time": "2018-11-27T03:55:38.970334Z"
    }
   },
   "outputs": [],
   "source": [
    "import pandas as pd\n",
    "import numpy as np\n",
    "import matplotlib.pyplot as plt\n",
    "import seaborn as sns\n",
    "sns.set()\n",
    "\n",
    "from pathlib import Path\n",
    "DATA_DIR = Path('..')/'..'/'data'"
   ]
  },
  {
   "cell_type": "code",
   "execution_count": 2,
   "metadata": {
    "ExecuteTime": {
     "end_time": "2018-11-27T03:55:43.068006Z",
     "start_time": "2018-11-27T03:55:42.686057Z"
    }
   },
   "outputs": [],
   "source": [
    "house_polls = pd.read_pickle(DATA_DIR/'cleaned'/'HousePollwithWinner_Final.pkl')"
   ]
  },
  {
   "cell_type": "code",
   "execution_count": 12,
   "metadata": {
    "ExecuteTime": {
     "end_time": "2018-11-27T04:18:38.598010Z",
     "start_time": "2018-11-27T04:18:38.580528Z"
    }
   },
   "outputs": [
    {
     "name": "stdout",
     "output_type": "stream",
     "text": [
      "(677, 12)\n"
     ]
    },
    {
     "data": {
      "text/html": [
       "<div>\n",
       "<style scoped>\n",
       "    .dataframe tbody tr th:only-of-type {\n",
       "        vertical-align: middle;\n",
       "    }\n",
       "\n",
       "    .dataframe tbody tr th {\n",
       "        vertical-align: top;\n",
       "    }\n",
       "\n",
       "    .dataframe thead th {\n",
       "        text-align: right;\n",
       "    }\n",
       "</style>\n",
       "<table border=\"1\" class=\"dataframe\">\n",
       "  <thead>\n",
       "    <tr style=\"text-align: right;\">\n",
       "      <th></th>\n",
       "      <th>race_name</th>\n",
       "      <th>race_type</th>\n",
       "      <th>state</th>\n",
       "      <th>top_candidates</th>\n",
       "      <th>pollster</th>\n",
       "      <th>poll_results</th>\n",
       "      <th>poll_leader</th>\n",
       "      <th>poll_spread</th>\n",
       "      <th>date</th>\n",
       "      <th>winner</th>\n",
       "      <th>winning_party</th>\n",
       "      <th>district</th>\n",
       "    </tr>\n",
       "  </thead>\n",
       "  <tbody>\n",
       "    <tr>\n",
       "      <th>0</th>\n",
       "      <td>pennsylvania 12th district special election</td>\n",
       "      <td>house</td>\n",
       "      <td>PA</td>\n",
       "      <td>[burns, critz]</td>\n",
       "      <td>ppp (d)</td>\n",
       "      <td>{'burns': 44.0, 'critz': 41.0}</td>\n",
       "      <td>burns</td>\n",
       "      <td>3.0</td>\n",
       "      <td>2010-04-20</td>\n",
       "      <td>critz</td>\n",
       "      <td>d</td>\n",
       "      <td>12</td>\n",
       "    </tr>\n",
       "    <tr>\n",
       "      <th>1</th>\n",
       "      <td>new hampshire 1st district</td>\n",
       "      <td>house</td>\n",
       "      <td>NH</td>\n",
       "      <td>[guinta, shea-porter]</td>\n",
       "      <td>ppp (d)</td>\n",
       "      <td>{'guinta': 46.0, 'shea-porter': 45.0}</td>\n",
       "      <td>guinta</td>\n",
       "      <td>1.0</td>\n",
       "      <td>2010-04-22</td>\n",
       "      <td>guinta</td>\n",
       "      <td>r</td>\n",
       "      <td>1</td>\n",
       "    </tr>\n",
       "    <tr>\n",
       "      <th>2</th>\n",
       "      <td>new hampshire 2nd district</td>\n",
       "      <td>house</td>\n",
       "      <td>NH</td>\n",
       "      <td>[bass, swett]</td>\n",
       "      <td>ppp (d)</td>\n",
       "      <td>{'bass': 47.0, 'swett': 32.0}</td>\n",
       "      <td>bass</td>\n",
       "      <td>15.0</td>\n",
       "      <td>2010-04-22</td>\n",
       "      <td>bass</td>\n",
       "      <td>r</td>\n",
       "      <td>2</td>\n",
       "    </tr>\n",
       "    <tr>\n",
       "      <th>3</th>\n",
       "      <td>new hampshire 1st district</td>\n",
       "      <td>house</td>\n",
       "      <td>NH</td>\n",
       "      <td>[guinta, shea-porter]</td>\n",
       "      <td>wmur/unh</td>\n",
       "      <td>{'guinta': 42.0, 'shea-porter': 38.0}</td>\n",
       "      <td>guinta</td>\n",
       "      <td>4.0</td>\n",
       "      <td>2010-04-30</td>\n",
       "      <td>guinta</td>\n",
       "      <td>r</td>\n",
       "      <td>1</td>\n",
       "    </tr>\n",
       "    <tr>\n",
       "      <th>4</th>\n",
       "      <td>new hampshire 2nd district</td>\n",
       "      <td>house</td>\n",
       "      <td>NH</td>\n",
       "      <td>[bass, swett]</td>\n",
       "      <td>wmur/unh</td>\n",
       "      <td>{'bass': 44.0, 'swett': 27.0}</td>\n",
       "      <td>bass</td>\n",
       "      <td>17.0</td>\n",
       "      <td>2010-04-30</td>\n",
       "      <td>bass</td>\n",
       "      <td>r</td>\n",
       "      <td>2</td>\n",
       "    </tr>\n",
       "  </tbody>\n",
       "</table>\n",
       "</div>"
      ],
      "text/plain": [
       "                                     race_name race_type state  \\\n",
       "0  pennsylvania 12th district special election     house    PA   \n",
       "1                   new hampshire 1st district     house    NH   \n",
       "2                   new hampshire 2nd district     house    NH   \n",
       "3                   new hampshire 1st district     house    NH   \n",
       "4                   new hampshire 2nd district     house    NH   \n",
       "\n",
       "          top_candidates  pollster                           poll_results  \\\n",
       "0         [burns, critz]   ppp (d)         {'burns': 44.0, 'critz': 41.0}   \n",
       "1  [guinta, shea-porter]   ppp (d)  {'guinta': 46.0, 'shea-porter': 45.0}   \n",
       "2          [bass, swett]   ppp (d)          {'bass': 47.0, 'swett': 32.0}   \n",
       "3  [guinta, shea-porter]  wmur/unh  {'guinta': 42.0, 'shea-porter': 38.0}   \n",
       "4          [bass, swett]  wmur/unh          {'bass': 44.0, 'swett': 27.0}   \n",
       "\n",
       "  poll_leader  poll_spread       date  winner winning_party  district  \n",
       "0       burns          3.0 2010-04-20   critz             d        12  \n",
       "1      guinta          1.0 2010-04-22  guinta             r         1  \n",
       "2        bass         15.0 2010-04-22    bass             r         2  \n",
       "3      guinta          4.0 2010-04-30  guinta             r         1  \n",
       "4        bass         17.0 2010-04-30    bass             r         2  "
      ]
     },
     "execution_count": 12,
     "metadata": {},
     "output_type": "execute_result"
    }
   ],
   "source": [
    "print(house_polls.shape)\n",
    "house_polls.head()"
   ]
  },
  {
   "cell_type": "code",
   "execution_count": 52,
   "metadata": {
    "ExecuteTime": {
     "end_time": "2018-11-27T04:36:29.091122Z",
     "start_time": "2018-11-27T04:36:29.080243Z"
    }
   },
   "outputs": [
    {
     "name": "stdout",
     "output_type": "stream",
     "text": [
      "0\n",
      "race_name         pennsylvania 12th district special election\n",
      "race_type                                               house\n",
      "state                                                      PA\n",
      "top_candidates                                 [burns, critz]\n",
      "pollster                                              ppp (d)\n",
      "poll_results                   {'burns': 44.0, 'critz': 41.0}\n",
      "poll_leader                                             burns\n",
      "poll_spread                                                 3\n",
      "date                                      2010-04-20 00:00:00\n",
      "winner                                                  critz\n",
      "winning_party                                               d\n",
      "district                                                   12\n",
      "Name: 0, dtype: object\n",
      "1\n",
      "race_name                    new hampshire 1st district\n",
      "race_type                                         house\n",
      "state                                                NH\n",
      "top_candidates                    [guinta, shea-porter]\n",
      "pollster                                        ppp (d)\n",
      "poll_results      {'guinta': 46.0, 'shea-porter': 45.0}\n",
      "poll_leader                                      guinta\n",
      "poll_spread                                           1\n",
      "date                                2010-04-22 00:00:00\n",
      "winner                                           guinta\n",
      "winning_party                                         r\n",
      "district                                              1\n",
      "Name: 1, dtype: object\n"
     ]
    }
   ],
   "source": [
    "for i, row in house_polls.iterrows():\n",
    "    print(i)\n",
    "    print(row)\n",
    "    if (i == 1):\n",
    "        break"
   ]
  },
  {
   "cell_type": "code",
   "execution_count": 66,
   "metadata": {
    "ExecuteTime": {
     "end_time": "2018-11-27T04:39:27.518275Z",
     "start_time": "2018-11-27T04:39:27.510941Z"
    }
   },
   "outputs": [],
   "source": [
    "def expand_polls(data):\n",
    "    columns = ['candidate_name', 'candidate_party', \n",
    "               'race_name', 'race_type', 'state',\n",
    "               'candidate_poll', 'opponent_poll',\n",
    "               'leading_poll', 'date', 'win'\n",
    "              ]\n",
    "    new = pd.DataFrame(np.empty((len(data) * 2, len(columns))),\n",
    "                        columns=columns)\n",
    "    \n",
    "    new.loc[:, 'candidate_name'] = new['candidate_name'].astype(np.str_)\n",
    "    for i, row in data.iterrows():\n",
    "        new.iloc[2 * i].loc['candidate_name'] = row['top_candidates'][0]\n",
    "        new.iloc[2 * i + 1].loc['candidate_name'] = row['top_candidates'][1]\n",
    "    \n",
    "    return new"
   ]
  },
  {
   "cell_type": "code",
   "execution_count": 67,
   "metadata": {
    "ExecuteTime": {
     "end_time": "2018-11-27T04:41:32.264838Z",
     "start_time": "2018-11-27T04:39:28.396310Z"
    }
   },
   "outputs": [
    {
     "name": "stderr",
     "output_type": "stream",
     "text": [
      "/mnt/c/Users/Junseo/Dropbox/4thYear/1Fall/ieor135/tenguins/.env/lib/python3.6/site-packages/ipykernel_launcher.py:12: SettingWithCopyWarning: \n",
      "A value is trying to be set on a copy of a slice from a DataFrame\n",
      "\n",
      "See the caveats in the documentation: http://pandas.pydata.org/pandas-docs/stable/indexing.html#indexing-view-versus-copy\n",
      "  if sys.path[0] == '':\n",
      "/mnt/c/Users/Junseo/Dropbox/4thYear/1Fall/ieor135/tenguins/.env/lib/python3.6/site-packages/ipykernel_launcher.py:13: SettingWithCopyWarning: \n",
      "A value is trying to be set on a copy of a slice from a DataFrame\n",
      "\n",
      "See the caveats in the documentation: http://pandas.pydata.org/pandas-docs/stable/indexing.html#indexing-view-versus-copy\n",
      "  del sys.path[0]\n"
     ]
    }
   ],
   "source": [
    "house_train = expand_polls(house_polls)"
   ]
  },
  {
   "cell_type": "code",
   "execution_count": 69,
   "metadata": {
    "ExecuteTime": {
     "end_time": "2018-11-27T04:44:19.929004Z",
     "start_time": "2018-11-27T04:44:19.907914Z"
    }
   },
   "outputs": [
    {
     "data": {
      "text/html": [
       "<div>\n",
       "<style scoped>\n",
       "    .dataframe tbody tr th:only-of-type {\n",
       "        vertical-align: middle;\n",
       "    }\n",
       "\n",
       "    .dataframe tbody tr th {\n",
       "        vertical-align: top;\n",
       "    }\n",
       "\n",
       "    .dataframe thead th {\n",
       "        text-align: right;\n",
       "    }\n",
       "</style>\n",
       "<table border=\"1\" class=\"dataframe\">\n",
       "  <thead>\n",
       "    <tr style=\"text-align: right;\">\n",
       "      <th></th>\n",
       "      <th>candidate_name</th>\n",
       "      <th>candidate_party</th>\n",
       "      <th>race_name</th>\n",
       "      <th>race_type</th>\n",
       "      <th>state</th>\n",
       "      <th>candidate_poll</th>\n",
       "      <th>opponent_poll</th>\n",
       "      <th>leading_poll</th>\n",
       "      <th>date</th>\n",
       "      <th>win</th>\n",
       "    </tr>\n",
       "  </thead>\n",
       "  <tbody>\n",
       "    <tr>\n",
       "      <th>0</th>\n",
       "      <td>6.8996852667444e-310</td>\n",
       "      <td>6.899685e-310</td>\n",
       "      <td>3.365431e-316</td>\n",
       "      <td>3.365431e-316</td>\n",
       "      <td>6.899589e-310</td>\n",
       "      <td>6.899589e-310</td>\n",
       "      <td>6.899589e-310</td>\n",
       "      <td>6.899589e-310</td>\n",
       "      <td>6.899589e-310</td>\n",
       "      <td>6.899589e-310</td>\n",
       "    </tr>\n",
       "    <tr>\n",
       "      <th>1</th>\n",
       "      <td>6.89958913381623e-310</td>\n",
       "      <td>6.899589e-310</td>\n",
       "      <td>6.899589e-310</td>\n",
       "      <td>6.899589e-310</td>\n",
       "      <td>6.899589e-310</td>\n",
       "      <td>6.899589e-310</td>\n",
       "      <td>6.899589e-310</td>\n",
       "      <td>6.899589e-310</td>\n",
       "      <td>6.899589e-310</td>\n",
       "      <td>6.899589e-310</td>\n",
       "    </tr>\n",
       "    <tr>\n",
       "      <th>2</th>\n",
       "      <td>6.8995891328953e-310</td>\n",
       "      <td>6.899589e-310</td>\n",
       "      <td>6.899589e-310</td>\n",
       "      <td>6.899589e-310</td>\n",
       "      <td>6.899589e-310</td>\n",
       "      <td>6.899589e-310</td>\n",
       "      <td>6.899589e-310</td>\n",
       "      <td>6.899589e-310</td>\n",
       "      <td>6.899589e-310</td>\n",
       "      <td>6.899589e-310</td>\n",
       "    </tr>\n",
       "    <tr>\n",
       "      <th>3</th>\n",
       "      <td>6.8995891344352e-310</td>\n",
       "      <td>6.899589e-310</td>\n",
       "      <td>6.899589e-310</td>\n",
       "      <td>6.899589e-310</td>\n",
       "      <td>6.899589e-310</td>\n",
       "      <td>6.899589e-310</td>\n",
       "      <td>6.899589e-310</td>\n",
       "      <td>6.899589e-310</td>\n",
       "      <td>6.899589e-310</td>\n",
       "      <td>6.899589e-310</td>\n",
       "    </tr>\n",
       "    <tr>\n",
       "      <th>4</th>\n",
       "      <td>6.89958913447077e-310</td>\n",
       "      <td>6.899589e-310</td>\n",
       "      <td>6.899589e-310</td>\n",
       "      <td>6.899589e-310</td>\n",
       "      <td>6.899589e-310</td>\n",
       "      <td>6.899589e-310</td>\n",
       "      <td>6.899589e-310</td>\n",
       "      <td>6.899589e-310</td>\n",
       "      <td>6.899589e-310</td>\n",
       "      <td>6.899589e-310</td>\n",
       "    </tr>\n",
       "  </tbody>\n",
       "</table>\n",
       "</div>"
      ],
      "text/plain": [
       "          candidate_name  candidate_party      race_name      race_type  \\\n",
       "0   6.8996852667444e-310    6.899685e-310  3.365431e-316  3.365431e-316   \n",
       "1  6.89958913381623e-310    6.899589e-310  6.899589e-310  6.899589e-310   \n",
       "2   6.8995891328953e-310    6.899589e-310  6.899589e-310  6.899589e-310   \n",
       "3   6.8995891344352e-310    6.899589e-310  6.899589e-310  6.899589e-310   \n",
       "4  6.89958913447077e-310    6.899589e-310  6.899589e-310  6.899589e-310   \n",
       "\n",
       "           state  candidate_poll  opponent_poll   leading_poll           date  \\\n",
       "0  6.899589e-310   6.899589e-310  6.899589e-310  6.899589e-310  6.899589e-310   \n",
       "1  6.899589e-310   6.899589e-310  6.899589e-310  6.899589e-310  6.899589e-310   \n",
       "2  6.899589e-310   6.899589e-310  6.899589e-310  6.899589e-310  6.899589e-310   \n",
       "3  6.899589e-310   6.899589e-310  6.899589e-310  6.899589e-310  6.899589e-310   \n",
       "4  6.899589e-310   6.899589e-310  6.899589e-310  6.899589e-310  6.899589e-310   \n",
       "\n",
       "             win  \n",
       "0  6.899589e-310  \n",
       "1  6.899589e-310  \n",
       "2  6.899589e-310  \n",
       "3  6.899589e-310  \n",
       "4  6.899589e-310  "
      ]
     },
     "execution_count": 69,
     "metadata": {},
     "output_type": "execute_result"
    }
   ],
   "source": [
    "house_train.head()"
   ]
  }
 ],
 "metadata": {
  "kernelspec": {
   "display_name": "Python 3",
   "language": "python",
   "name": "python3"
  },
  "language_info": {
   "codemirror_mode": {
    "name": "ipython",
    "version": 3
   },
   "file_extension": ".py",
   "mimetype": "text/x-python",
   "name": "python",
   "nbconvert_exporter": "python",
   "pygments_lexer": "ipython3",
   "version": "3.6.6"
  }
 },
 "nbformat": 4,
 "nbformat_minor": 2
}
